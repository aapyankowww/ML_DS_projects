{
 "cells": [
  {
   "cell_type": "markdown",
   "id": "7aeb927f-9fbb-4aac-8ddd-665abd28dd57",
   "metadata": {},
   "source": [
    "# Проект по прогнозированию временных рядов"
   ]
  },
  {
   "cell_type": "markdown",
   "id": "018dda0a-9abe-413e-811f-06ba708cc6e5",
   "metadata": {},
   "source": [
    "## Описание проекта"
   ]
  },
  {
   "cell_type": "markdown",
   "id": "a9a12151-005e-4194-b467-70e01eefd1c4",
   "metadata": {},
   "source": [
    "**Прогнозирование заказов такси**\n",
    "_____\n",
    "**Компания «Чётенькое такси» собрала исторические данные о заказах такси в аэропортах.  \n",
    "Чтобы привлекать больше водителей в период пиковой нагрузки, нужно спрогнозировать количество заказов такси на следующий час.**\n",
    "    \n",
    "_____\n",
    "**Цель исследования.**\n",
    "Построение математической модели, предсказывающей количество заказов на следующий час по полученным историческим данным.\n",
    "    \n",
    "_____\n",
    "**Задачи исследования.**\n",
    "1. Анализ исходных данных:\n",
    "- Выявление тренда и сезонности\n",
    "- Вычисление новых параметров для построения модели\n",
    "- Поиск и валидация лучшей модели. Критерий успеха - среднеквадратичная ошибка не более 48 заказов\n",
    "2. Поиск лучшей модели для прогнозирования\n",
    "3. Валидация модели\n",
    "_____\n",
    "**Исходные данные.**\n",
    "В данных представлены заказы, совершенные за период с марта по сентябрь 2018 года\n",
    "______\n"
   ]
  },
  {
   "cell_type": "markdown",
   "id": "285fbd7b-5490-4fd5-9cf2-41a437c0ceb5",
   "metadata": {},
   "source": [
    "## Импорт библиотек и загрузка функций"
   ]
  },
  {
   "cell_type": "markdown",
   "id": "73aee41e",
   "metadata": {},
   "source": [
    "Package                        Version\n",
    "------------------------------ --------------\n",
    "absl-py                        2.1.0\n",
    "alembic                        1.13.2\n",
    "annotated-types                0.7.0\n",
    "anyio                          4.4.0\n",
    "appnope                        0.1.4\n",
    "argon2-cffi                    23.1.0\n",
    "argon2-cffi-bindings           21.2.0\n",
    "arrow                          1.3.0\n",
    "asttokens                      2.4.1\n",
    "astunparse                     1.6.3\n",
    "async-lru                      2.0.4\n",
    "attrs                          23.2.0\n",
    "Babel                          2.14.0\n",
    "beautifulsoup4                 4.12.3\n",
    "bleach                         6.1.0\n",
    "Bottleneck                     1.3.7\n",
    "Brotli                         1.0.9\n",
    "cached-property                1.5.2\n",
    "catboost                       1.2.5\n",
    "certifi                        2024.7.4\n",
    "cffi                           1.16.0\n",
    "charset-normalizer             3.3.2\n",
    "click                          8.1.7\n",
    "cloudpickle                    3.0.0\n",
    "colorlog                       6.8.2\n",
    "comm                           0.2.2\n",
    "contourpy                      1.2.0\n",
    "cycler                         0.11.0\n",
    "dacite                         1.8.1\n",
    "debugpy                        1.6.7\n",
    "decorator                      5.1.1\n",
    "defusedxml                     0.7.1\n",
    "entrypoints                    0.4\n",
    "exceptiongroup                 1.2.0\n",
    "executing                      2.0.1\n",
    "fastjsonschema                 2.20.0\n",
    "filelock                       3.15.4\n",
    "flatbuffers                    24.3.25\n",
    "fonttools                      4.51.0\n",
    "fqdn                           1.5.1\n",
    "fsspec                         2024.6.0\n",
    "gast                           0.5.5\n",
    "google-pasta                   0.2.0\n",
    "graphviz                       0.20.3\n",
    "grpcio                         1.64.1\n",
    "h11                            0.14.0\n",
    "h2                             4.1.0\n",
    "h5py                           3.11.0\n",
    "hpack                          4.0.0\n",
    "htmlmin                        0.1.12\n",
    "httpcore                       1.0.5\n",
    "httpx                          0.27.0\n",
    "huggingface-hub                0.23.4\n",
    "hyperframe                     6.0.1\n",
    "idna                           3.7\n",
    "ImageHash                      4.3.1\n",
    "importlib_metadata             8.0.0\n",
    "importlib_resources            6.4.0\n",
    "ipykernel                      6.29.4\n",
    "ipython                        8.21.0\n",
    "ipython_genutils               0.2.0\n",
    "ipywidgets                     8.1.3\n",
    "isoduration                    20.11.0\n",
    "jedi                           0.19.1\n",
    "Jinja2                         3.1.4\n",
    "joblib                         1.4.2\n",
    "json5                          0.9.25\n",
    "jsonpointer                    2.1\n",
    "jsonschema                     4.22.0\n",
    "jsonschema-specifications      2023.12.1\n",
    "jupyter                        1.0.0\n",
    "jupyter_client                 8.6.2\n",
    "jupyter-console                6.6.3\n",
    "jupyter_core                   5.7.2\n",
    "jupyter-events                 0.10.0\n",
    "jupyter-lsp                    2.2.5\n",
    "jupyter_server                 2.14.1\n",
    "jupyter_server_terminals       0.5.3\n",
    "jupyterlab                     4.2.3\n",
    "jupyterlab-language-pack-ru-RU 4.2.post2\n",
    "jupyterlab_pygments            0.3.0\n",
    "jupyterlab_server              2.27.2\n",
    "jupyterlab_widgets             3.0.11\n",
    "keras                          3.4.1\n",
    "kiwisolver                     1.4.5\n",
    "libclang                       18.1.1\n",
    "lightgbm                       4.5.0\n",
    "llvmlite                       0.43.0\n",
    "Mako                           1.3.5\n",
    "Markdown                       3.6\n",
    "markdown-it-py                 3.0.0\n",
    "MarkupSafe                     2.1.3\n",
    "matplotlib                     3.9.0\n",
    "matplotlib-inline              0.1.7\n",
    "mdurl                          0.1.2\n",
    "missingno                      0.5.2\n",
    "mistune                        3.0.2\n",
    "ml-dtypes                      0.3.2\n",
    "mpmath                         1.3.0\n",
    "multimethod                    1.12\n",
    "namex                          0.0.8\n",
    "nbclient                       0.10.0\n",
    "nbconvert                      7.16.4\n",
    "nbformat                       5.10.4\n",
    "nest_asyncio                   1.6.0\n",
    "networkx                       3.3\n",
    "nltk                           3.8.1\n",
    "notebook                       6.4.0\n",
    "notebook_shim                  0.2.4\n",
    "numba                          0.60.0\n",
    "numexpr                        2.8.7\n",
    "numpy                          1.26.4\n",
    "opt-einsum                     3.3.0\n",
    "optree                         0.11.0\n",
    "optuna                         4.0.0\n",
    "overrides                      7.7.0\n",
    "packaging                      24.1\n",
    "pandas                         2.2.2\n",
    "pandocfilters                  1.5.0\n",
    "parso                          0.8.4\n",
    "patsy                          0.5.6\n",
    "pexpect                        4.9.0\n",
    "phik                           0.12.3\n",
    "pickleshare                    0.7.5\n",
    "pillow                         10.3.0\n",
    "pip                            24.0\n",
    "pkgutil_resolve_name           1.3.10\n",
    "platformdirs                   4.2.2\n",
    "plotly                         5.22.0\n",
    "prometheus_client              0.20.0\n",
    "prompt_toolkit                 3.0.47\n",
    "protobuf                       4.25.3\n",
    "psutil                         5.9.0\n",
    "psycopg2-binary                2.9.9\n",
    "ptyprocess                     0.7.0\n",
    "pure-eval                      0.2.2\n",
    "py4j                           0.10.9.7\n",
    "pycparser                      2.22\n",
    "pydantic                       2.9.2\n",
    "pydantic_core                  2.23.4\n",
    "Pygments                       2.18.0\n",
    "pyobjc-core                    10.1\n",
    "pyobjc-framework-Cocoa         10.1\n",
    "pyparsing                      3.1.2\n",
    "PySocks                        1.7.1\n",
    "pyspark                        3.5.1\n",
    "python-dateutil                2.9.0\n",
    "python-json-logger             2.0.7\n",
    "pytz                           2024.1\n",
    "PyWavelets                     1.7.0\n",
    "PyYAML                         6.0.1\n",
    "pyzmq                          25.1.2\n",
    "qtconsole                      5.5.2\n",
    "QtPy                           2.4.1\n",
    "referencing                    0.35.1\n",
    "regex                          2024.5.15\n",
    "requests                       2.32.3\n",
    "rfc3339-validator              0.1.4\n",
    "rfc3986-validator              0.1.1\n",
    "rich                           13.7.1\n",
    "rpds-py                        0.10.6\n",
    "safetensors                    0.4.3\n",
    "scikit-learn                   1.5.1\n",
    "scipy                          1.13.1\n",
    "seaborn                        0.13.2\n",
    "Send2Trash                     1.8.3\n",
    "setuptools                     70.1.1\n",
    "shap                           0.42.1\n",
    "six                            1.16.0\n",
    "slicer                         0.0.7\n",
    "sniffio                        1.3.1\n",
    "soupsieve                      2.5\n",
    "SQLAlchemy                     2.0.31\n",
    "stack-data                     0.6.2\n",
    "statsmodels                    0.14.2\n",
    "sympy                          1.12.1\n",
    "tenacity                       8.4.2\n",
    "tensorboard                    2.16.2\n",
    "tensorboard-data-server        0.7.2\n",
    "tensorflow                     2.16.1\n",
    "tensorflow-io-gcs-filesystem   0.37.0\n",
    "termcolor                      2.4.0\n",
    "terminado                      0.18.1\n",
    "threadpoolctl                  3.5.0\n",
    "tinycss2                       1.3.0\n",
    "tokenizers                     0.19.1\n",
    "tomli                          2.0.1\n",
    "torch                          2.3.1\n",
    "tornado                        6.4.1\n",
    "tqdm                           4.66.4\n",
    "traitlets                      5.9.0\n",
    "transformers                   4.41.2\n",
    "typeguard                      4.4.0\n",
    "types-python-dateutil          2.9.0.20240316\n",
    "typing_extensions              4.12.2\n",
    "typing-utils                   0.1.0\n",
    "tzdata                         2024.1\n",
    "unicodedata2                   15.1.0\n",
    "uri-template                   1.3.0\n",
    "urllib3                        2.2.2\n",
    "visions                        0.7.6\n",
    "wcwidth                        0.2.13\n",
    "webcolors                      24.6.0\n",
    "webencodings                   0.5.1\n",
    "websocket-client               1.8.0\n",
    "Werkzeug                       3.0.3\n",
    "wheel                          0.43.0\n",
    "widgetsnbextension             4.0.11\n",
    "wordcloud                      1.9.3\n",
    "wrapt                          1.16.0\n",
    "ydata-profiling                4.12.0\n",
    "zipp                           3.19.2\n",
    "zstandard                      0.22.0"
   ]
  },
  {
   "cell_type": "code",
   "execution_count": 1,
   "id": "84425f45-40b3-445b-a01c-8c3b705fac8e",
   "metadata": {
    "scrolled": true
   },
   "outputs": [
    {
     "name": "stdout",
     "output_type": "stream",
     "text": [
      "Collecting shap\n",
      "  Downloading shap-0.46.0-cp39-cp39-manylinux_2_12_x86_64.manylinux2010_x86_64.manylinux_2_17_x86_64.manylinux2014_x86_64.whl (539 kB)\n",
      "\u001b[K     |████████████████████████████████| 539 kB 1.1 MB/s eta 0:00:01\n",
      "\u001b[?25hRequirement already satisfied: scipy in /opt/conda/lib/python3.9/site-packages (from shap) (1.9.1)\n",
      "Collecting slicer==0.0.8\n",
      "  Downloading slicer-0.0.8-py3-none-any.whl (15 kB)\n",
      "Requirement already satisfied: numpy in /opt/conda/lib/python3.9/site-packages (from shap) (1.21.1)\n",
      "Requirement already satisfied: numba in /opt/conda/lib/python3.9/site-packages (from shap) (0.56.0)\n",
      "Collecting cloudpickle\n",
      "  Downloading cloudpickle-3.1.0-py3-none-any.whl (22 kB)\n",
      "Requirement already satisfied: packaging>20.9 in /opt/conda/lib/python3.9/site-packages (from shap) (21.3)\n",
      "Requirement already satisfied: pandas in /opt/conda/lib/python3.9/site-packages (from shap) (1.2.4)\n",
      "Requirement already satisfied: tqdm>=4.27.0 in /opt/conda/lib/python3.9/site-packages (from shap) (4.61.2)\n",
      "Requirement already satisfied: scikit-learn in /opt/conda/lib/python3.9/site-packages (from shap) (0.24.1)\n",
      "Requirement already satisfied: pyparsing!=3.0.5,>=2.0.2 in /opt/conda/lib/python3.9/site-packages (from packaging>20.9->shap) (2.4.7)\n",
      "Requirement already satisfied: setuptools in /opt/conda/lib/python3.9/site-packages (from numba->shap) (49.6.0.post20210108)\n",
      "Requirement already satisfied: llvmlite<0.40,>=0.39.0dev0 in /opt/conda/lib/python3.9/site-packages (from numba->shap) (0.39.0)\n",
      "Requirement already satisfied: python-dateutil>=2.7.3 in /opt/conda/lib/python3.9/site-packages (from pandas->shap) (2.8.1)\n",
      "Requirement already satisfied: pytz>=2017.3 in /opt/conda/lib/python3.9/site-packages (from pandas->shap) (2021.1)\n",
      "Requirement already satisfied: six>=1.5 in /opt/conda/lib/python3.9/site-packages (from python-dateutil>=2.7.3->pandas->shap) (1.16.0)\n",
      "Requirement already satisfied: joblib>=0.11 in /opt/conda/lib/python3.9/site-packages (from scikit-learn->shap) (1.1.0)\n",
      "Requirement already satisfied: threadpoolctl>=2.0.0 in /opt/conda/lib/python3.9/site-packages (from scikit-learn->shap) (3.1.0)\n",
      "Installing collected packages: slicer, cloudpickle, shap\n",
      "Successfully installed cloudpickle-3.1.0 shap-0.46.0 slicer-0.0.8\n"
     ]
    }
   ],
   "source": [
    "#!pip install shap"
   ]
  },
  {
   "cell_type": "code",
   "execution_count": 2,
   "id": "c54c9937-7b45-4f57-a627-36d2ceacc03f",
   "metadata": {},
   "outputs": [],
   "source": [
    "import pandas as pd\n",
    "import seaborn as sns\n",
    "import matplotlib.pyplot as plt\n",
    "import matplotlib.dates as mdates\n",
    "from statsmodels.tsa.seasonal import seasonal_decompose\n",
    "from statsmodels.graphics.tsaplots import plot_acf\n",
    "\n",
    "from sklearn.model_selection import train_test_split,cross_val_score,RandomizedSearchCV,TimeSeriesSplit\n",
    "\n",
    "from sklearn.dummy import DummyRegressor\n",
    "from sklearn.tree import DecisionTreeRegressor\n",
    "from sklearn.linear_model import LinearRegression\n",
    "from sklearn.linear_model import Ridge\n",
    "from sklearn.linear_model import Lasso\n",
    "from lightgbm import LGBMRegressor \n",
    "from catboost import CatBoostRegressor\n",
    "from sklearn.metrics import mean_squared_error\n",
    "from sklearn.pipeline import Pipeline \n",
    "from sklearn.compose import ColumnTransformer\n",
    "from sklearn.preprocessing import RobustScaler\n",
    "\n",
    "import shap\n",
    "\n",
    "import warnings\n",
    "warnings.filterwarnings(\"ignore\")\n",
    "RANDOM_STATE = 58"
   ]
  },
  {
   "cell_type": "code",
   "execution_count": 3,
   "id": "3f679bc3-f3d9-42b9-9c1a-d5fde6cebca5",
   "metadata": {},
   "outputs": [],
   "source": [
    "# Просто строит графики с подписями\n",
    "sns.set(rc={'figure.figsize':(15,6)})\n",
    "sns.set_style(\"whitegrid\", {\"grid.color\": \".6\", \"grid.linestyle\": \":\"})\n",
    "def plot_title(data, title,x,y):\n",
    "    data.plot()\n",
    "    plt.title(title)\n",
    "    plt.xlabel(x)\n",
    "    plt.ylabel(y)\n",
    "    plt.show()"
   ]
  },
  {
   "cell_type": "markdown",
   "id": "0fe780fa-4c5a-45b1-b077-3f6e282fd50e",
   "metadata": {},
   "source": [
    "## Загрузка данных"
   ]
  },
  {
   "cell_type": "code",
   "execution_count": 4,
   "id": "1e9a3cf5-9a0d-4014-aa80-be6c016d4359",
   "metadata": {},
   "outputs": [],
   "source": [
    "data = pd.read_csv('https://code.s3.yandex.net/datasets/taxi.csv',index_col=[0], parse_dates=[0])\n",
    "start_size = len(data)"
   ]
  },
  {
   "cell_type": "code",
   "execution_count": 5,
   "id": "4f3505ff-e4fa-45ea-b8d7-bac47691c7bb",
   "metadata": {},
   "outputs": [
    {
     "data": {
      "text/html": [
       "<div>\n",
       "<style scoped>\n",
       "    .dataframe tbody tr th:only-of-type {\n",
       "        vertical-align: middle;\n",
       "    }\n",
       "\n",
       "    .dataframe tbody tr th {\n",
       "        vertical-align: top;\n",
       "    }\n",
       "\n",
       "    .dataframe thead th {\n",
       "        text-align: right;\n",
       "    }\n",
       "</style>\n",
       "<table border=\"1\" class=\"dataframe\">\n",
       "  <thead>\n",
       "    <tr style=\"text-align: right;\">\n",
       "      <th></th>\n",
       "      <th>num_orders</th>\n",
       "    </tr>\n",
       "    <tr>\n",
       "      <th>datetime</th>\n",
       "      <th></th>\n",
       "    </tr>\n",
       "  </thead>\n",
       "  <tbody>\n",
       "    <tr>\n",
       "      <th>2018-03-01 00:00:00</th>\n",
       "      <td>9</td>\n",
       "    </tr>\n",
       "    <tr>\n",
       "      <th>2018-03-01 00:10:00</th>\n",
       "      <td>14</td>\n",
       "    </tr>\n",
       "    <tr>\n",
       "      <th>2018-03-01 00:20:00</th>\n",
       "      <td>28</td>\n",
       "    </tr>\n",
       "    <tr>\n",
       "      <th>2018-03-01 00:30:00</th>\n",
       "      <td>20</td>\n",
       "    </tr>\n",
       "    <tr>\n",
       "      <th>2018-03-01 00:40:00</th>\n",
       "      <td>32</td>\n",
       "    </tr>\n",
       "  </tbody>\n",
       "</table>\n",
       "</div>"
      ],
      "text/plain": [
       "                     num_orders\n",
       "datetime                       \n",
       "2018-03-01 00:00:00           9\n",
       "2018-03-01 00:10:00          14\n",
       "2018-03-01 00:20:00          28\n",
       "2018-03-01 00:30:00          20\n",
       "2018-03-01 00:40:00          32"
      ]
     },
     "execution_count": 5,
     "metadata": {},
     "output_type": "execute_result"
    }
   ],
   "source": [
    "data.head()"
   ]
  },
  {
   "cell_type": "code",
   "execution_count": 6,
   "id": "bc56b865-044f-452d-af46-c983615e8fd2",
   "metadata": {},
   "outputs": [],
   "source": [
    "data.sort_index(inplace=True)"
   ]
  },
  {
   "cell_type": "code",
   "execution_count": 7,
   "id": "3ef9ad25-1b08-4237-9f0f-865fa96fad4f",
   "metadata": {},
   "outputs": [
    {
     "name": "stdout",
     "output_type": "stream",
     "text": [
      "<class 'pandas.core.frame.DataFrame'>\n",
      "DatetimeIndex: 26496 entries, 2018-03-01 00:00:00 to 2018-08-31 23:50:00\n",
      "Data columns (total 1 columns):\n",
      " #   Column      Non-Null Count  Dtype\n",
      "---  ------      --------------  -----\n",
      " 0   num_orders  26496 non-null  int64\n",
      "dtypes: int64(1)\n",
      "memory usage: 414.0 KB\n"
     ]
    }
   ],
   "source": [
    "data.info()"
   ]
  },
  {
   "cell_type": "markdown",
   "id": "e165c8b1-8ae3-404d-ba9e-78e27bd25fa7",
   "metadata": {},
   "source": [
    "<b> Данные были отсортированы. При загрузке столбец с датами заказов был трансформирован в индекс для комфортной работы"
   ]
  },
  {
   "cell_type": "markdown",
   "id": "17d2af44-56f0-463a-9793-2ba6839585b8",
   "metadata": {},
   "source": [
    "## Исследовательский анализ"
   ]
  },
  {
   "cell_type": "markdown",
   "id": "5ee34a55-11c4-433b-a8de-b0e604209b52",
   "metadata": {},
   "source": [
    "### Тренд и сезонность"
   ]
  },
  {
   "cell_type": "markdown",
   "id": "818ad42e-39de-43ab-8d8a-77d214e76597",
   "metadata": {},
   "source": [
    "Разобъем данные на промежутки по часу и просуммируем заказы"
   ]
  },
  {
   "cell_type": "code",
   "execution_count": 8,
   "id": "ef2c3c8b-1185-4f12-99d0-e441e8bcf55e",
   "metadata": {},
   "outputs": [],
   "source": [
    "resample_data = data.resample('1h').sum()"
   ]
  },
  {
   "cell_type": "markdown",
   "id": "5c6f2b25-86b6-4a80-bdb0-bb878323112c",
   "metadata": {},
   "source": [
    "Проведем декомпозицию ряда для анализа тренда и сезонности"
   ]
  },
  {
   "cell_type": "code",
   "execution_count": 9,
   "id": "e47d54b8-47f0-4392-8f13-9b2a66698833",
   "metadata": {},
   "outputs": [],
   "source": [
    "decomposed = seasonal_decompose(resample_data) "
   ]
  },
  {
   "cell_type": "code",
   "execution_count": 10,
   "id": "fdba2d86-2242-456a-952e-7c1310f9d4d3",
   "metadata": {},
   "outputs": [
    {
     "data": {
      "image/png": "[encoded data removed]",
      "text/plain": [
       "<Figure size 1080x432 with 1 Axes>"
      ]
     },
     "metadata": {},
     "output_type": "display_data"
    }
   ],
   "source": [
    "plot_title(decomposed.trend,'Тренд количества заказов','Месяц','Количество заказов')"
   ]
  },
  {
   "cell_type": "code",
   "execution_count": 11,
   "id": "c56c6023-afcc-4c6d-8e42-d56aeae6bb87",
   "metadata": {},
   "outputs": [
    {
     "data": {
      "image/png": "[encoded data removed]",
      "text/plain": [
       "<Figure size 1080x432 with 1 Axes>"
      ]
     },
     "metadata": {},
     "output_type": "display_data"
    }
   ],
   "source": [
    "fig, ax = plt.subplots()\n",
    "ax.xaxis.set_major_locator(mdates.MonthLocator(bymonthday=30))\n",
    "ax.xaxis.set_major_formatter(mdates.DateFormatter('%b'))\n",
    "ax.bar(data.resample('1M').sum().index,data.resample('1M').sum()['num_orders'],width=20, align='center')\n",
    "#ax.bar_label(ax.containers[0], fontsize=10)\n",
    "ax.grid(False)\n",
    "plt.title('Количество заказов по месяцам')\n",
    "plt.xlabel('Месяц')\n",
    "plt.ylabel('Количество')\n",
    "plt.show()"
   ]
  },
  {
   "cell_type": "code",
   "execution_count": 12,
   "id": "aa5f202a-b40a-4184-85d8-5831b1a0e875",
   "metadata": {},
   "outputs": [
    {
     "name": "stdout",
     "output_type": "stream",
     "text": [
      "Рост количества заказов с начального момента: 206.7 %\n"
     ]
    }
   ],
   "source": [
    "percent_of_inc = round(100*int(data.resample('1M').sum().loc['2018-08','num_orders'])/int(data.resample('1M').sum().loc['2018-04','num_orders']),1)\n",
    "print('Рост количества заказов с начального момента:',percent_of_inc,'%')"
   ]
  },
  {
   "cell_type": "code",
   "execution_count": 13,
   "id": "ba4841ee-b332-40e8-b458-9e2451019829",
   "metadata": {},
   "outputs": [
    {
     "data": {
      "image/png": "[encoded data removed]",
      "text/plain": [
       "<Figure size 1080x432 with 1 Axes>"
      ]
     },
     "metadata": {},
     "output_type": "display_data"
    }
   ],
   "source": [
    "plot_title(decomposed.seasonal['2018-03-01':'2018-03-05'],'Сезонность количества заказов','День','Количество заказов')"
   ]
  },
  {
   "cell_type": "code",
   "execution_count": 14,
   "id": "75ee0371-d5c4-4914-acf7-af3a20799479",
   "metadata": {},
   "outputs": [
    {
     "data": {
      "image/png": "[encoded data removed]",
      "text/plain": [
       "<Figure size 1080x432 with 1 Axes>"
      ]
     },
     "metadata": {},
     "output_type": "display_data"
    }
   ],
   "source": [
    "plot_title(decomposed.resid,'График остатков','Месяц','Количество заказов')"
   ]
  },
  {
   "cell_type": "markdown",
   "id": "e7a280dd-5fa8-465e-b3a5-04be02dee810",
   "metadata": {},
   "source": [
    "Построим декомпозицию данных, собранных по суткам."
   ]
  },
  {
   "cell_type": "code",
   "execution_count": 15,
   "id": "0f59b9a7-27cc-4cb2-803f-52689925bceb",
   "metadata": {},
   "outputs": [],
   "source": [
    "resample_data_24 = data.resample('1D').sum()\n",
    "decomposed_24 = seasonal_decompose(resample_data_24) \n"
   ]
  },
  {
   "cell_type": "code",
   "execution_count": 16,
   "id": "55bc3961-330e-492a-8193-e3bf1a406da6",
   "metadata": {},
   "outputs": [
    {
     "data": {
      "image/png": "[encoded data removed]",
      "text/plain": [
       "<Figure size 1080x432 with 1 Axes>"
      ]
     },
     "metadata": {},
     "output_type": "display_data"
    }
   ],
   "source": [
    "#plot_title(decomposed_24.seasonal['2018-03-01':'2018-03-14'],'Недельная сезонность количества заказов','День','Количество заказов')\n",
    "decompose_24_df = pd.DataFrame()\n",
    "decompose_24_df['seasonal'] = pd.Series(decomposed_24.seasonal['2018-03-01':'2018-03-14'])\n",
    "decompose_24_df['week_day'] = decompose_24_df.index.dayofweek\n",
    "decompose_24_df['2018-03-05':'2018-03-11'].plot(x='week_day',y='seasonal')\n",
    "plt.title('Недельная сезонность количества заказов')\n",
    "plt.xlabel('День недели')\n",
    "plt.ylabel('Количество заказов')\n",
    "plt.show()"
   ]
  },
  {
   "cell_type": "markdown",
   "id": "ab541e01-c6ae-401d-a4f3-61b5fee801c9",
   "metadata": {},
   "source": [
    "<b> Промежуточные выводы:\n",
    "- **В данных наблюдается значительное увеличение количества заказов более чем в 2 раза. С июня по август характер роста носит линейный характер.** \n",
    "- **Выявлена сезонность количества заказов: в ночное время количество заказов минимально, в утренние и дневные часы наблюдается рост до пикового значения в вечерние часы.**\n",
    "- **Также наблюдается недельная сезонность: в понедельник количечтво заказов максимально, во вторник достигает минимума. До четверга наблюдается постепенный рост заказов, а в выходные - снижение**\n",
    "- **Остатки: что в августе наблюдается повышение модуля отклонений. Самые значимые данные находятся именно в этом месяце.**"
   ]
  },
  {
   "cell_type": "markdown",
   "id": "02540244-d491-4313-b720-678a7dad7754",
   "metadata": {},
   "source": [
    "### Автокорреляция"
   ]
  },
  {
   "cell_type": "code",
   "execution_count": 17,
   "id": "8ffa8c96-ae2d-442c-a7f4-75804d16ff45",
   "metadata": {},
   "outputs": [
    {
     "data": {
      "image/png": "[encoded data removed]",
      "text/plain": [
       "<Figure size 1080x432 with 1 Axes>"
      ]
     },
     "metadata": {},
     "output_type": "display_data"
    }
   ],
   "source": [
    "plot_acf(resample_data,lags=200)\n",
    "plt.ylim(-0.30,1.1)\n",
    "plt.xlabel('День')\n",
    "plt.ylabel('Коэф.автокорреляции')\n",
    "plt.title('График автокорреляции')\n",
    "plt.show()"
   ]
  },
  {
   "cell_type": "markdown",
   "id": "23e15680-8df8-4ae2-b347-56fce3ddcd76",
   "metadata": {},
   "source": [
    "<b> Промежуточные выводы:\n",
    "- **Наибольшая автокорреляция достигается при 24 и 168 часовой задежке.  \n",
    "Действительно, период сезонности составляет сутки и неделю. Данные в выбранный час должны быть схожи с данными в прошлые сутки и в тот же день неделю назад** "
   ]
  },
  {
   "cell_type": "markdown",
   "id": "e173bd7a-5d10-48e8-b772-7a1491d292a4",
   "metadata": {},
   "source": [
    "## Построение моделей"
   ]
  },
  {
   "cell_type": "markdown",
   "id": "55c61668-e03c-45d9-8d7d-ed4e0c9f91df",
   "metadata": {},
   "source": [
    "### Подготовка данных"
   ]
  },
  {
   "cell_type": "code",
   "execution_count": 18,
   "id": "157f178e-b533-48b3-a265-59420ac08690",
   "metadata": {},
   "outputs": [],
   "source": [
    "#Создадим функцию для создания параметров\n",
    "def time_features(df,max_lag,roll):\n",
    "    df['hour'] = df.index.hour\n",
    "    df['dayofweek'] = df.index.dayofweek\n",
    "    \n",
    "    for lag in range(1, max_lag + 1):\n",
    "        name = 'lag_' + str(lag)\n",
    "        df[name] = df['num_orders'].shift(lag)\n",
    "    \n",
    "    df['rolling_mean'] = data['num_orders'].shift().rolling(roll).mean()\n",
    "\n",
    "    df.dropna(inplace=True)\n",
    "    \n",
    "    return df"
   ]
  },
  {
   "cell_type": "markdown",
   "id": "b052e537-bfd1-415d-9696-3cb7949fe39b",
   "metadata": {},
   "source": [
    "<div class=\"alert\" style=\"background-color:#ead7f7;color:#8737bf\">\n",
    "    <font size=\"3\"><b>Комментарий</b></font>\n",
    "\n",
    "    \n",
    "   Исправлено\n",
    "\n",
    "</div>"
   ]
  },
  {
   "cell_type": "code",
   "execution_count": 19,
   "id": "3b3d54d1-4fa3-49bf-b450-99fdfd2454fb",
   "metadata": {},
   "outputs": [],
   "source": [
    "data_learn = resample_data.copy()"
   ]
  },
  {
   "cell_type": "markdown",
   "id": "08711b85-7a88-4b60-92f1-1f7bfb3a716a",
   "metadata": {},
   "source": [
    "### Создание новых признаков"
   ]
  },
  {
   "cell_type": "code",
   "execution_count": 20,
   "id": "442e9f89-d148-4e90-b0b0-91b42b96deb9",
   "metadata": {},
   "outputs": [
    {
     "data": {
      "text/html": [
       "<div>\n",
       "<style scoped>\n",
       "    .dataframe tbody tr th:only-of-type {\n",
       "        vertical-align: middle;\n",
       "    }\n",
       "\n",
       "    .dataframe tbody tr th {\n",
       "        vertical-align: top;\n",
       "    }\n",
       "\n",
       "    .dataframe thead th {\n",
       "        text-align: right;\n",
       "    }\n",
       "</style>\n",
       "<table border=\"1\" class=\"dataframe\">\n",
       "  <thead>\n",
       "    <tr style=\"text-align: right;\">\n",
       "      <th></th>\n",
       "      <th>num_orders</th>\n",
       "      <th>hour</th>\n",
       "      <th>dayofweek</th>\n",
       "      <th>lag_1</th>\n",
       "      <th>lag_2</th>\n",
       "      <th>lag_3</th>\n",
       "      <th>lag_4</th>\n",
       "      <th>lag_5</th>\n",
       "      <th>lag_6</th>\n",
       "      <th>lag_7</th>\n",
       "      <th>...</th>\n",
       "      <th>lag_160</th>\n",
       "      <th>lag_161</th>\n",
       "      <th>lag_162</th>\n",
       "      <th>lag_163</th>\n",
       "      <th>lag_164</th>\n",
       "      <th>lag_165</th>\n",
       "      <th>lag_166</th>\n",
       "      <th>lag_167</th>\n",
       "      <th>lag_168</th>\n",
       "      <th>rolling_mean</th>\n",
       "    </tr>\n",
       "    <tr>\n",
       "      <th>datetime</th>\n",
       "      <th></th>\n",
       "      <th></th>\n",
       "      <th></th>\n",
       "      <th></th>\n",
       "      <th></th>\n",
       "      <th></th>\n",
       "      <th></th>\n",
       "      <th></th>\n",
       "      <th></th>\n",
       "      <th></th>\n",
       "      <th></th>\n",
       "      <th></th>\n",
       "      <th></th>\n",
       "      <th></th>\n",
       "      <th></th>\n",
       "      <th></th>\n",
       "      <th></th>\n",
       "      <th></th>\n",
       "      <th></th>\n",
       "      <th></th>\n",
       "      <th></th>\n",
       "    </tr>\n",
       "  </thead>\n",
       "  <tbody>\n",
       "    <tr>\n",
       "      <th>2018-03-08 00:00:00</th>\n",
       "      <td>143</td>\n",
       "      <td>0</td>\n",
       "      <td>3</td>\n",
       "      <td>94.0</td>\n",
       "      <td>127.0</td>\n",
       "      <td>108.0</td>\n",
       "      <td>76.0</td>\n",
       "      <td>50.0</td>\n",
       "      <td>99.0</td>\n",
       "      <td>48.0</td>\n",
       "      <td>...</td>\n",
       "      <td>34.0</td>\n",
       "      <td>15.0</td>\n",
       "      <td>12.0</td>\n",
       "      <td>6.0</td>\n",
       "      <td>43.0</td>\n",
       "      <td>66.0</td>\n",
       "      <td>71.0</td>\n",
       "      <td>85.0</td>\n",
       "      <td>124.0</td>\n",
       "      <td>10.178571</td>\n",
       "    </tr>\n",
       "    <tr>\n",
       "      <th>2018-03-08 01:00:00</th>\n",
       "      <td>78</td>\n",
       "      <td>1</td>\n",
       "      <td>3</td>\n",
       "      <td>143.0</td>\n",
       "      <td>94.0</td>\n",
       "      <td>127.0</td>\n",
       "      <td>108.0</td>\n",
       "      <td>76.0</td>\n",
       "      <td>50.0</td>\n",
       "      <td>99.0</td>\n",
       "      <td>...</td>\n",
       "      <td>69.0</td>\n",
       "      <td>34.0</td>\n",
       "      <td>15.0</td>\n",
       "      <td>12.0</td>\n",
       "      <td>6.0</td>\n",
       "      <td>43.0</td>\n",
       "      <td>66.0</td>\n",
       "      <td>71.0</td>\n",
       "      <td>85.0</td>\n",
       "      <td>10.535714</td>\n",
       "    </tr>\n",
       "    <tr>\n",
       "      <th>2018-03-08 02:00:00</th>\n",
       "      <td>65</td>\n",
       "      <td>2</td>\n",
       "      <td>3</td>\n",
       "      <td>78.0</td>\n",
       "      <td>143.0</td>\n",
       "      <td>94.0</td>\n",
       "      <td>127.0</td>\n",
       "      <td>108.0</td>\n",
       "      <td>76.0</td>\n",
       "      <td>50.0</td>\n",
       "      <td>...</td>\n",
       "      <td>64.0</td>\n",
       "      <td>69.0</td>\n",
       "      <td>34.0</td>\n",
       "      <td>15.0</td>\n",
       "      <td>12.0</td>\n",
       "      <td>6.0</td>\n",
       "      <td>43.0</td>\n",
       "      <td>66.0</td>\n",
       "      <td>71.0</td>\n",
       "      <td>10.654762</td>\n",
       "    </tr>\n",
       "    <tr>\n",
       "      <th>2018-03-08 03:00:00</th>\n",
       "      <td>68</td>\n",
       "      <td>3</td>\n",
       "      <td>3</td>\n",
       "      <td>65.0</td>\n",
       "      <td>78.0</td>\n",
       "      <td>143.0</td>\n",
       "      <td>94.0</td>\n",
       "      <td>127.0</td>\n",
       "      <td>108.0</td>\n",
       "      <td>76.0</td>\n",
       "      <td>...</td>\n",
       "      <td>96.0</td>\n",
       "      <td>64.0</td>\n",
       "      <td>69.0</td>\n",
       "      <td>34.0</td>\n",
       "      <td>15.0</td>\n",
       "      <td>12.0</td>\n",
       "      <td>6.0</td>\n",
       "      <td>43.0</td>\n",
       "      <td>66.0</td>\n",
       "      <td>10.559524</td>\n",
       "    </tr>\n",
       "    <tr>\n",
       "      <th>2018-03-08 04:00:00</th>\n",
       "      <td>60</td>\n",
       "      <td>4</td>\n",
       "      <td>3</td>\n",
       "      <td>68.0</td>\n",
       "      <td>65.0</td>\n",
       "      <td>78.0</td>\n",
       "      <td>143.0</td>\n",
       "      <td>94.0</td>\n",
       "      <td>127.0</td>\n",
       "      <td>108.0</td>\n",
       "      <td>...</td>\n",
       "      <td>30.0</td>\n",
       "      <td>96.0</td>\n",
       "      <td>64.0</td>\n",
       "      <td>69.0</td>\n",
       "      <td>34.0</td>\n",
       "      <td>15.0</td>\n",
       "      <td>12.0</td>\n",
       "      <td>6.0</td>\n",
       "      <td>43.0</td>\n",
       "      <td>10.684524</td>\n",
       "    </tr>\n",
       "  </tbody>\n",
       "</table>\n",
       "<p>5 rows × 172 columns</p>\n",
       "</div>"
      ],
      "text/plain": [
       "                     num_orders  hour  dayofweek  lag_1  lag_2  lag_3  lag_4  \\\n",
       "datetime                                                                       \n",
       "2018-03-08 00:00:00         143     0          3   94.0  127.0  108.0   76.0   \n",
       "2018-03-08 01:00:00          78     1          3  143.0   94.0  127.0  108.0   \n",
       "2018-03-08 02:00:00          65     2          3   78.0  143.0   94.0  127.0   \n",
       "2018-03-08 03:00:00          68     3          3   65.0   78.0  143.0   94.0   \n",
       "2018-03-08 04:00:00          60     4          3   68.0   65.0   78.0  143.0   \n",
       "\n",
       "                     lag_5  lag_6  lag_7  ...  lag_160  lag_161  lag_162  \\\n",
       "datetime                                  ...                              \n",
       "2018-03-08 00:00:00   50.0   99.0   48.0  ...     34.0     15.0     12.0   \n",
       "2018-03-08 01:00:00   76.0   50.0   99.0  ...     69.0     34.0     15.0   \n",
       "2018-03-08 02:00:00  108.0   76.0   50.0  ...     64.0     69.0     34.0   \n",
       "2018-03-08 03:00:00  127.0  108.0   76.0  ...     96.0     64.0     69.0   \n",
       "2018-03-08 04:00:00   94.0  127.0  108.0  ...     30.0     96.0     64.0   \n",
       "\n",
       "                     lag_163  lag_164  lag_165  lag_166  lag_167  lag_168  \\\n",
       "datetime                                                                    \n",
       "2018-03-08 00:00:00      6.0     43.0     66.0     71.0     85.0    124.0   \n",
       "2018-03-08 01:00:00     12.0      6.0     43.0     66.0     71.0     85.0   \n",
       "2018-03-08 02:00:00     15.0     12.0      6.0     43.0     66.0     71.0   \n",
       "2018-03-08 03:00:00     34.0     15.0     12.0      6.0     43.0     66.0   \n",
       "2018-03-08 04:00:00     69.0     34.0     15.0     12.0      6.0     43.0   \n",
       "\n",
       "                     rolling_mean  \n",
       "datetime                           \n",
       "2018-03-08 00:00:00     10.178571  \n",
       "2018-03-08 01:00:00     10.535714  \n",
       "2018-03-08 02:00:00     10.654762  \n",
       "2018-03-08 03:00:00     10.559524  \n",
       "2018-03-08 04:00:00     10.684524  \n",
       "\n",
       "[5 rows x 172 columns]"
      ]
     },
     "execution_count": 20,
     "metadata": {},
     "output_type": "execute_result"
    }
   ],
   "source": [
    "time_features(data_learn,168,168).head()"
   ]
  },
  {
   "cell_type": "code",
   "execution_count": 21,
   "id": "bc012b06-6c72-4c0a-bb3f-b7c500c77c27",
   "metadata": {},
   "outputs": [],
   "source": [
    "x_train, x_test, y_train, y_test= train_test_split(data_learn.drop(['num_orders'], axis=1),data_learn['num_orders'], shuffle=False, test_size=0.1)"
   ]
  },
  {
   "cell_type": "code",
   "execution_count": 22,
   "id": "a6814771-e9c5-480e-94cd-3deb24fde197",
   "metadata": {},
   "outputs": [
    {
     "name": "stdout",
     "output_type": "stream",
     "text": [
      "(4248, 172)\n",
      "(425, 171)\n"
     ]
    }
   ],
   "source": [
    "print(data_learn.shape)\n",
    "print(x_test.shape)"
   ]
  },
  {
   "cell_type": "markdown",
   "id": "d408a4bf-cd51-47b4-8c04-e263b147bd5b",
   "metadata": {},
   "source": [
    "### Масштабирование признаков"
   ]
  },
  {
   "cell_type": "code",
   "execution_count": 23,
   "id": "9482281a-1eba-4db3-82de-461a67c3e2d1",
   "metadata": {},
   "outputs": [
    {
     "data": {
      "text/html": [
       "<div>\n",
       "<style scoped>\n",
       "    .dataframe tbody tr th:only-of-type {\n",
       "        vertical-align: middle;\n",
       "    }\n",
       "\n",
       "    .dataframe tbody tr th {\n",
       "        vertical-align: top;\n",
       "    }\n",
       "\n",
       "    .dataframe thead th {\n",
       "        text-align: right;\n",
       "    }\n",
       "</style>\n",
       "<table border=\"1\" class=\"dataframe\">\n",
       "  <thead>\n",
       "    <tr style=\"text-align: right;\">\n",
       "      <th></th>\n",
       "      <th>hour</th>\n",
       "      <th>dayofweek</th>\n",
       "      <th>lag_1</th>\n",
       "      <th>lag_2</th>\n",
       "      <th>lag_3</th>\n",
       "      <th>lag_4</th>\n",
       "      <th>lag_5</th>\n",
       "      <th>lag_6</th>\n",
       "      <th>lag_7</th>\n",
       "      <th>lag_8</th>\n",
       "      <th>...</th>\n",
       "      <th>lag_160</th>\n",
       "      <th>lag_161</th>\n",
       "      <th>lag_162</th>\n",
       "      <th>lag_163</th>\n",
       "      <th>lag_164</th>\n",
       "      <th>lag_165</th>\n",
       "      <th>lag_166</th>\n",
       "      <th>lag_167</th>\n",
       "      <th>lag_168</th>\n",
       "      <th>rolling_mean</th>\n",
       "    </tr>\n",
       "  </thead>\n",
       "  <tbody>\n",
       "    <tr>\n",
       "      <th>0</th>\n",
       "      <td>-0.333333</td>\n",
       "      <td>-0.50</td>\n",
       "      <td>-0.632653</td>\n",
       "      <td>-0.591837</td>\n",
       "      <td>1.285714</td>\n",
       "      <td>2.326531</td>\n",
       "      <td>0.653061</td>\n",
       "      <td>3.163265</td>\n",
       "      <td>1.285714</td>\n",
       "      <td>1.183673</td>\n",
       "      <td>...</td>\n",
       "      <td>0.770833</td>\n",
       "      <td>0.000000</td>\n",
       "      <td>0.541667</td>\n",
       "      <td>0.854167</td>\n",
       "      <td>-0.062500</td>\n",
       "      <td>0.520833</td>\n",
       "      <td>0.958333</td>\n",
       "      <td>0.104167</td>\n",
       "      <td>-0.625000</td>\n",
       "      <td>1.444709</td>\n",
       "    </tr>\n",
       "    <tr>\n",
       "      <th>1</th>\n",
       "      <td>-0.250000</td>\n",
       "      <td>-0.50</td>\n",
       "      <td>-0.448980</td>\n",
       "      <td>-0.632653</td>\n",
       "      <td>-0.591837</td>\n",
       "      <td>1.285714</td>\n",
       "      <td>2.326531</td>\n",
       "      <td>0.653061</td>\n",
       "      <td>3.163265</td>\n",
       "      <td>1.285714</td>\n",
       "      <td>...</td>\n",
       "      <td>0.520833</td>\n",
       "      <td>0.770833</td>\n",
       "      <td>0.000000</td>\n",
       "      <td>0.541667</td>\n",
       "      <td>0.854167</td>\n",
       "      <td>-0.062500</td>\n",
       "      <td>0.520833</td>\n",
       "      <td>0.958333</td>\n",
       "      <td>0.104167</td>\n",
       "      <td>1.309156</td>\n",
       "    </tr>\n",
       "    <tr>\n",
       "      <th>2</th>\n",
       "      <td>-0.166667</td>\n",
       "      <td>-0.50</td>\n",
       "      <td>0.306122</td>\n",
       "      <td>-0.448980</td>\n",
       "      <td>-0.632653</td>\n",
       "      <td>-0.591837</td>\n",
       "      <td>1.285714</td>\n",
       "      <td>2.326531</td>\n",
       "      <td>0.653061</td>\n",
       "      <td>3.163265</td>\n",
       "      <td>...</td>\n",
       "      <td>0.562500</td>\n",
       "      <td>0.520833</td>\n",
       "      <td>0.770833</td>\n",
       "      <td>0.000000</td>\n",
       "      <td>0.541667</td>\n",
       "      <td>0.854167</td>\n",
       "      <td>-0.062500</td>\n",
       "      <td>0.520833</td>\n",
       "      <td>0.958333</td>\n",
       "      <td>1.247325</td>\n",
       "    </tr>\n",
       "    <tr>\n",
       "      <th>3</th>\n",
       "      <td>-0.083333</td>\n",
       "      <td>-0.50</td>\n",
       "      <td>1.204082</td>\n",
       "      <td>0.306122</td>\n",
       "      <td>-0.448980</td>\n",
       "      <td>-0.632653</td>\n",
       "      <td>-0.591837</td>\n",
       "      <td>1.285714</td>\n",
       "      <td>2.326531</td>\n",
       "      <td>0.653061</td>\n",
       "      <td>...</td>\n",
       "      <td>0.208333</td>\n",
       "      <td>0.562500</td>\n",
       "      <td>0.520833</td>\n",
       "      <td>0.770833</td>\n",
       "      <td>0.000000</td>\n",
       "      <td>0.541667</td>\n",
       "      <td>0.854167</td>\n",
       "      <td>-0.062500</td>\n",
       "      <td>0.520833</td>\n",
       "      <td>1.309156</td>\n",
       "    </tr>\n",
       "    <tr>\n",
       "      <th>4</th>\n",
       "      <td>0.000000</td>\n",
       "      <td>-0.50</td>\n",
       "      <td>1.612245</td>\n",
       "      <td>1.204082</td>\n",
       "      <td>0.306122</td>\n",
       "      <td>-0.448980</td>\n",
       "      <td>-0.632653</td>\n",
       "      <td>-0.591837</td>\n",
       "      <td>1.285714</td>\n",
       "      <td>2.326531</td>\n",
       "      <td>...</td>\n",
       "      <td>0.312500</td>\n",
       "      <td>0.208333</td>\n",
       "      <td>0.562500</td>\n",
       "      <td>0.520833</td>\n",
       "      <td>0.770833</td>\n",
       "      <td>0.000000</td>\n",
       "      <td>0.541667</td>\n",
       "      <td>0.854167</td>\n",
       "      <td>-0.062500</td>\n",
       "      <td>1.414982</td>\n",
       "    </tr>\n",
       "    <tr>\n",
       "      <th>...</th>\n",
       "      <td>...</td>\n",
       "      <td>...</td>\n",
       "      <td>...</td>\n",
       "      <td>...</td>\n",
       "      <td>...</td>\n",
       "      <td>...</td>\n",
       "      <td>...</td>\n",
       "      <td>...</td>\n",
       "      <td>...</td>\n",
       "      <td>...</td>\n",
       "      <td>...</td>\n",
       "      <td>...</td>\n",
       "      <td>...</td>\n",
       "      <td>...</td>\n",
       "      <td>...</td>\n",
       "      <td>...</td>\n",
       "      <td>...</td>\n",
       "      <td>...</td>\n",
       "      <td>...</td>\n",
       "      <td>...</td>\n",
       "      <td>...</td>\n",
       "    </tr>\n",
       "    <tr>\n",
       "      <th>420</th>\n",
       "      <td>0.666667</td>\n",
       "      <td>0.25</td>\n",
       "      <td>2.673469</td>\n",
       "      <td>2.877551</td>\n",
       "      <td>2.469388</td>\n",
       "      <td>0.816327</td>\n",
       "      <td>1.163265</td>\n",
       "      <td>1.836735</td>\n",
       "      <td>1.224490</td>\n",
       "      <td>1.857143</td>\n",
       "      <td>...</td>\n",
       "      <td>2.354167</td>\n",
       "      <td>1.791667</td>\n",
       "      <td>3.583333</td>\n",
       "      <td>4.145833</td>\n",
       "      <td>2.062500</td>\n",
       "      <td>3.500000</td>\n",
       "      <td>1.916667</td>\n",
       "      <td>2.187500</td>\n",
       "      <td>0.812500</td>\n",
       "      <td>3.229489</td>\n",
       "    </tr>\n",
       "    <tr>\n",
       "      <th>421</th>\n",
       "      <td>0.750000</td>\n",
       "      <td>0.25</td>\n",
       "      <td>1.224490</td>\n",
       "      <td>2.673469</td>\n",
       "      <td>2.877551</td>\n",
       "      <td>2.469388</td>\n",
       "      <td>0.816327</td>\n",
       "      <td>1.163265</td>\n",
       "      <td>1.836735</td>\n",
       "      <td>1.224490</td>\n",
       "      <td>...</td>\n",
       "      <td>2.541667</td>\n",
       "      <td>2.354167</td>\n",
       "      <td>1.791667</td>\n",
       "      <td>3.583333</td>\n",
       "      <td>4.145833</td>\n",
       "      <td>2.062500</td>\n",
       "      <td>3.500000</td>\n",
       "      <td>1.916667</td>\n",
       "      <td>2.187500</td>\n",
       "      <td>3.205707</td>\n",
       "    </tr>\n",
       "    <tr>\n",
       "      <th>422</th>\n",
       "      <td>0.833333</td>\n",
       "      <td>0.25</td>\n",
       "      <td>1.591837</td>\n",
       "      <td>1.224490</td>\n",
       "      <td>2.673469</td>\n",
       "      <td>2.877551</td>\n",
       "      <td>2.469388</td>\n",
       "      <td>0.816327</td>\n",
       "      <td>1.163265</td>\n",
       "      <td>1.836735</td>\n",
       "      <td>...</td>\n",
       "      <td>0.916667</td>\n",
       "      <td>2.541667</td>\n",
       "      <td>2.354167</td>\n",
       "      <td>1.791667</td>\n",
       "      <td>3.583333</td>\n",
       "      <td>4.145833</td>\n",
       "      <td>2.062500</td>\n",
       "      <td>3.500000</td>\n",
       "      <td>1.916667</td>\n",
       "      <td>3.086801</td>\n",
       "    </tr>\n",
       "    <tr>\n",
       "      <th>423</th>\n",
       "      <td>0.916667</td>\n",
       "      <td>0.25</td>\n",
       "      <td>1.693878</td>\n",
       "      <td>1.591837</td>\n",
       "      <td>1.224490</td>\n",
       "      <td>2.673469</td>\n",
       "      <td>2.877551</td>\n",
       "      <td>2.469388</td>\n",
       "      <td>0.816327</td>\n",
       "      <td>1.163265</td>\n",
       "      <td>...</td>\n",
       "      <td>0.000000</td>\n",
       "      <td>0.916667</td>\n",
       "      <td>2.541667</td>\n",
       "      <td>2.354167</td>\n",
       "      <td>1.791667</td>\n",
       "      <td>3.583333</td>\n",
       "      <td>4.145833</td>\n",
       "      <td>2.062500</td>\n",
       "      <td>3.500000</td>\n",
       "      <td>2.869203</td>\n",
       "    </tr>\n",
       "    <tr>\n",
       "      <th>424</th>\n",
       "      <td>1.000000</td>\n",
       "      <td>0.25</td>\n",
       "      <td>3.000000</td>\n",
       "      <td>1.693878</td>\n",
       "      <td>1.591837</td>\n",
       "      <td>1.224490</td>\n",
       "      <td>2.673469</td>\n",
       "      <td>2.877551</td>\n",
       "      <td>2.469388</td>\n",
       "      <td>0.816327</td>\n",
       "      <td>...</td>\n",
       "      <td>-1.083333</td>\n",
       "      <td>0.000000</td>\n",
       "      <td>0.916667</td>\n",
       "      <td>2.541667</td>\n",
       "      <td>2.354167</td>\n",
       "      <td>1.791667</td>\n",
       "      <td>3.583333</td>\n",
       "      <td>4.145833</td>\n",
       "      <td>2.062500</td>\n",
       "      <td>2.923900</td>\n",
       "    </tr>\n",
       "  </tbody>\n",
       "</table>\n",
       "<p>425 rows × 171 columns</p>\n",
       "</div>"
      ],
      "text/plain": [
       "         hour  dayofweek     lag_1     lag_2     lag_3     lag_4     lag_5  \\\n",
       "0   -0.333333      -0.50 -0.632653 -0.591837  1.285714  2.326531  0.653061   \n",
       "1   -0.250000      -0.50 -0.448980 -0.632653 -0.591837  1.285714  2.326531   \n",
       "2   -0.166667      -0.50  0.306122 -0.448980 -0.632653 -0.591837  1.285714   \n",
       "3   -0.083333      -0.50  1.204082  0.306122 -0.448980 -0.632653 -0.591837   \n",
       "4    0.000000      -0.50  1.612245  1.204082  0.306122 -0.448980 -0.632653   \n",
       "..        ...        ...       ...       ...       ...       ...       ...   \n",
       "420  0.666667       0.25  2.673469  2.877551  2.469388  0.816327  1.163265   \n",
       "421  0.750000       0.25  1.224490  2.673469  2.877551  2.469388  0.816327   \n",
       "422  0.833333       0.25  1.591837  1.224490  2.673469  2.877551  2.469388   \n",
       "423  0.916667       0.25  1.693878  1.591837  1.224490  2.673469  2.877551   \n",
       "424  1.000000       0.25  3.000000  1.693878  1.591837  1.224490  2.673469   \n",
       "\n",
       "        lag_6     lag_7     lag_8  ...   lag_160   lag_161   lag_162  \\\n",
       "0    3.163265  1.285714  1.183673  ...  0.770833  0.000000  0.541667   \n",
       "1    0.653061  3.163265  1.285714  ...  0.520833  0.770833  0.000000   \n",
       "2    2.326531  0.653061  3.163265  ...  0.562500  0.520833  0.770833   \n",
       "3    1.285714  2.326531  0.653061  ...  0.208333  0.562500  0.520833   \n",
       "4   -0.591837  1.285714  2.326531  ...  0.312500  0.208333  0.562500   \n",
       "..        ...       ...       ...  ...       ...       ...       ...   \n",
       "420  1.836735  1.224490  1.857143  ...  2.354167  1.791667  3.583333   \n",
       "421  1.163265  1.836735  1.224490  ...  2.541667  2.354167  1.791667   \n",
       "422  0.816327  1.163265  1.836735  ...  0.916667  2.541667  2.354167   \n",
       "423  2.469388  0.816327  1.163265  ...  0.000000  0.916667  2.541667   \n",
       "424  2.877551  2.469388  0.816327  ... -1.083333  0.000000  0.916667   \n",
       "\n",
       "      lag_163   lag_164   lag_165   lag_166   lag_167   lag_168  rolling_mean  \n",
       "0    0.854167 -0.062500  0.520833  0.958333  0.104167 -0.625000      1.444709  \n",
       "1    0.541667  0.854167 -0.062500  0.520833  0.958333  0.104167      1.309156  \n",
       "2    0.000000  0.541667  0.854167 -0.062500  0.520833  0.958333      1.247325  \n",
       "3    0.770833  0.000000  0.541667  0.854167 -0.062500  0.520833      1.309156  \n",
       "4    0.520833  0.770833  0.000000  0.541667  0.854167 -0.062500      1.414982  \n",
       "..        ...       ...       ...       ...       ...       ...           ...  \n",
       "420  4.145833  2.062500  3.500000  1.916667  2.187500  0.812500      3.229489  \n",
       "421  3.583333  4.145833  2.062500  3.500000  1.916667  2.187500      3.205707  \n",
       "422  1.791667  3.583333  4.145833  2.062500  3.500000  1.916667      3.086801  \n",
       "423  2.354167  1.791667  3.583333  4.145833  2.062500  3.500000      2.869203  \n",
       "424  2.541667  2.354167  1.791667  3.583333  4.145833  2.062500      2.923900  \n",
       "\n",
       "[425 rows x 171 columns]"
      ]
     },
     "execution_count": 23,
     "metadata": {},
     "output_type": "execute_result"
    }
   ],
   "source": [
    "num_col = x_train.columns.to_list()\n",
    "data_preprocessor = ColumnTransformer([('num', RobustScaler(), num_col)])\n",
    "x_train_pros = data_preprocessor.fit_transform(x_train)\n",
    "x_test_pros = data_preprocessor.transform(x_test)\n",
    "col_names = num_col\n",
    "x_train = pd.DataFrame(x_train_pros, columns = col_names)\n",
    "x_test = pd.DataFrame(x_test_pros, columns = col_names)\n",
    "x_test"
   ]
  },
  {
   "cell_type": "markdown",
   "id": "9d9bb593-53f9-488e-a729-cc171b05d1e9",
   "metadata": {},
   "source": [
    "### Линейная регрессия "
   ]
  },
  {
   "cell_type": "code",
   "execution_count": 24,
   "id": "10ff608b-c01c-41c0-9e3d-14d1c3aa449f",
   "metadata": {},
   "outputs": [
    {
     "name": "stdout",
     "output_type": "stream",
     "text": [
      "RMSE, полученная при кроссвалидации = 23\n",
      "\n"
     ]
    }
   ],
   "source": [
    "LR = LinearRegression()\n",
    "result_LR = cross_val_score(LR, x_train, y_train, cv=TimeSeriesSplit(), scoring='neg_root_mean_squared_error',) \n",
    "print('RMSE, полученная при кроссвалидации =', round(-result_LR.mean()))\n",
    "print()"
   ]
  },
  {
   "cell_type": "code",
   "execution_count": 25,
   "id": "4ea29d15-0496-47fa-bcae-dbb01fa6b9be",
   "metadata": {},
   "outputs": [
    {
     "name": "stdout",
     "output_type": "stream",
     "text": [
      "RMSE, полученная при кроссвалидации = 23\n",
      "\n"
     ]
    }
   ],
   "source": [
    "LR_ridge = Ridge()\n",
    "result_LR_ridge = cross_val_score(LR_ridge, x_train, y_train, cv=TimeSeriesSplit(), scoring='neg_root_mean_squared_error',) \n",
    "print('RMSE, полученная при кроссвалидации =', round(-result_LR_ridge.mean()))\n",
    "print()"
   ]
  },
  {
   "cell_type": "code",
   "execution_count": 26,
   "id": "74ccfc54-c458-40b4-a29a-a2d0d9134414",
   "metadata": {},
   "outputs": [
    {
     "name": "stdout",
     "output_type": "stream",
     "text": [
      "RMSE, полученная при кроссвалидации = 22\n",
      "\n"
     ]
    }
   ],
   "source": [
    "LR_lasso = Lasso()\n",
    "result_LR_lasso = cross_val_score(LR_lasso, x_train, y_train, cv=TimeSeriesSplit(), scoring='neg_root_mean_squared_error',) \n",
    "print('RMSE, полученная при кроссвалидации =', round(-result_LR_lasso.mean()))\n",
    "print()"
   ]
  },
  {
   "cell_type": "markdown",
   "id": "48375d73-3026-4f17-aa15-cb695ced2d72",
   "metadata": {},
   "source": [
    "### Дерево решений"
   ]
  },
  {
   "cell_type": "code",
   "execution_count": 27,
   "id": "e8668b0a-4573-46e1-9604-9ed1b5815b02",
   "metadata": {},
   "outputs": [],
   "source": [
    "pipe_DTR = Pipeline([('models', DecisionTreeRegressor(random_state=RANDOM_STATE))]) \n",
    "param_distributions = [\n",
    "    {\n",
    "        'models': [DecisionTreeRegressor(random_state=RANDOM_STATE)],\n",
    "        'models__max_depth': range(1, 15),\n",
    "        'models__max_features': range(1,15)\n",
    "    }\n",
    "] \n",
    "randomized_search = RandomizedSearchCV(pipe_DTR, \n",
    "                                       param_distributions=param_distributions, \n",
    "                                       scoring='neg_root_mean_squared_error', \n",
    "                                       random_state=RANDOM_STATE,\n",
    "                                       n_jobs=-1, \n",
    "                                       n_iter=500,\n",
    "                                       cv=TimeSeriesSplit())"
   ]
  },
  {
   "cell_type": "code",
   "execution_count": 28,
   "id": "9899034d-7f0d-49dd-9380-5d28929e0338",
   "metadata": {},
   "outputs": [
    {
     "name": "stdout",
     "output_type": "stream",
     "text": [
      "RMSE для лучшей модели, полученной с помощью кроссвалидации = 29\n",
      "\n",
      "Лучшая модель и её параметры:\n",
      "Pipeline(steps=[('models',\n",
      "                 DecisionTreeRegressor(max_depth=2, max_features=14,\n",
      "                                       random_state=58))])\n"
     ]
    }
   ],
   "source": [
    "randomized_search.fit(x_train, y_train)\n",
    "print('RMSE для лучшей модели, полученной с помощью кроссвалидации =', round(-1*randomized_search.best_score_))\n",
    "print('\\nЛучшая модель и её параметры:\\n', randomized_search.best_estimator_,sep='')"
   ]
  },
  {
   "cell_type": "markdown",
   "id": "d58caa38-c88d-4a44-bea9-fad6291e20ae",
   "metadata": {},
   "source": [
    "### Градиентный бустинг"
   ]
  },
  {
   "cell_type": "code",
   "execution_count": 29,
   "id": "b9abc3c5-7fcc-4595-9dbd-c9bb49fa405b",
   "metadata": {},
   "outputs": [
    {
     "name": "stdout",
     "output_type": "stream",
     "text": [
      "\n",
      "RMSE, полученная при кроссвалидации = 23\n"
     ]
    }
   ],
   "source": [
    "GB = LGBMRegressor(metric='rmse',n_jobs = -1,random_state=RANDOM_STATE,force_row_wise=True,num_leaves=20)\n",
    "result_GB = cross_val_score(GB, x_train, y_train, cv=TimeSeriesSplit(), scoring='neg_root_mean_squared_error') \n",
    "print()\n",
    "print('RMSE, полученная при кроссвалидации =', round(-result_GB.mean()))"
   ]
  },
  {
   "cell_type": "code",
   "execution_count": 30,
   "id": "89ac27a2-9b94-45c0-9fdd-f5b392e713b6",
   "metadata": {},
   "outputs": [
    {
     "name": "stdout",
     "output_type": "stream",
     "text": [
      "\n",
      "RMSE, полученная при кроссвалидации = 27\n"
     ]
    }
   ],
   "source": [
    "GB = LGBMRegressor(metric='rmse',n_jobs = -1,random_state=RANDOM_STATE,force_row_wise=True,boosting_type='dart',num_leaves=20)\n",
    "result_GB = cross_val_score(GB, x_train, y_train, cv=TimeSeriesSplit(), scoring='neg_root_mean_squared_error') \n",
    "print()\n",
    "print('RMSE, полученная при кроссвалидации =', round(-result_GB.mean()))"
   ]
  },
  {
   "cell_type": "markdown",
   "id": "4211b5db-0841-44e2-a12d-7a118abebc34",
   "metadata": {},
   "source": [
    "### DummyRegressor"
   ]
  },
  {
   "cell_type": "code",
   "execution_count": 31,
   "id": "8f2a393f-a37f-4734-ba85-0a634b4a9fc4",
   "metadata": {},
   "outputs": [
    {
     "name": "stdout",
     "output_type": "stream",
     "text": [
      "\n",
      "RMSE, полученная при кроссвалидации = 41\n"
     ]
    }
   ],
   "source": [
    "dummy_regr = DummyRegressor(strategy='mean')\n",
    "result_DM = cross_val_score(dummy_regr, x_train, y_train, cv=TimeSeriesSplit(), scoring='neg_root_mean_squared_error') \n",
    "print()\n",
    "print('RMSE, полученная при кроссвалидации =', round(-result_DM.mean()))"
   ]
  },
  {
   "cell_type": "markdown",
   "id": "6f1f1dd5-315b-439c-8449-b312cb058dd2",
   "metadata": {},
   "source": [
    "<b> Промежуточные выводы:\n",
    "- **Лучшей моделью можно считать линейную регрессию c lasso регуляризацией. Она обладает самым низкими значением среднеквадратичной ошибки при валидации**\n",
    "- **Данная модель обеспечивает необходимую точность**\n",
    "- **Полученные модели справляются лучше, чем константная**"
   ]
  },
  {
   "cell_type": "markdown",
   "id": "a24da084-74a7-4954-add9-089ba3c4b4ee",
   "metadata": {},
   "source": [
    "### Тестирование лучшей модели"
   ]
  },
  {
   "cell_type": "code",
   "execution_count": 32,
   "id": "3b5e5b83-288b-4bcb-8b1f-412fa501d8d8",
   "metadata": {},
   "outputs": [
    {
     "name": "stdout",
     "output_type": "stream",
     "text": [
      "\n",
      "RMSE лучшей модели = 35\n"
     ]
    }
   ],
   "source": [
    "LR_lasso.fit(x_train,y_train)\n",
    "predictions = LR_lasso.predict(x_test)\n",
    "print()\n",
    "print(f'RMSE лучшей модели = {round(mean_squared_error(y_test,predictions,squared=False))}')"
   ]
  },
  {
   "cell_type": "code",
   "execution_count": 33,
   "id": "24547484-45c4-4e84-b47c-aa31c1c20d65",
   "metadata": {},
   "outputs": [
    {
     "data": {
      "image/png": "[encoded data removed]",
      "text/plain": [
       "<Figure size 1080x432 with 1 Axes>"
      ]
     },
     "metadata": {},
     "output_type": "display_data"
    }
   ],
   "source": [
    "indexes = y_test.index\n",
    "pred_vs_true = y_test.copy().reset_index()\n",
    "pred_vs_true['preds'] = pd.Series(predictions)\n",
    "pred_vs_true.plot(x='datetime',y=['num_orders','preds'])\n",
    "plt.title('Предсказания и реальное количество заказов')\n",
    "plt.xlabel('День')\n",
    "plt.ylabel('Количество')\n",
    "plt.legend(['Реальность','Предсказания'])\n",
    "plt.show()"
   ]
  },
  {
   "cell_type": "code",
   "execution_count": 34,
   "id": "57337059-e3e2-4314-8305-12ff7611f2d7",
   "metadata": {},
   "outputs": [],
   "source": [
    "#explainer = shap.LinearExplainer(LR_lasso, x_test)\n",
    "#shap_values = explainer(x_test)\n",
    "#shap.plots.bar(shap_values, max_display=10)"
   ]
  },
  {
   "cell_type": "markdown",
   "id": "f6c02175-93a8-4361-b791-9254431dad49",
   "metadata": {},
   "source": [
    "<b> Промежуточные выводы:\n",
    "- **Модель линейной регресси ухудшила показатели среднекватратичной ошибки, но все равно укладывается в требования заказчика**\n",
    "- **Ухудшение метрики связано с диапазоном тестовой выборки. Наибольшее значение остатков наблюдалось в конце августа. Именно эти данные и попали в тестовую выборку**\n",
    "- **Модель плохо предсказывает резкие скачки заказов**\n",
    "- **Самыми важными факторами для модели являеется количество заказов неделю назад и 48 часов назад, что подтверждает дневную и недельную сезонность.**"
   ]
  },
  {
   "cell_type": "markdown",
   "id": "f1860e7f-b285-4c20-b799-3a7e29da5cc8",
   "metadata": {},
   "source": [
    "## Выводы"
   ]
  },
  {
   "cell_type": "markdown",
   "id": "f982500f-f4e8-4b7c-8ced-0922b2bb17e4",
   "metadata": {},
   "source": [
    "\n",
    "1. В ходе данной работы была получена модель предсказания количества заказов на один час по историческим данным.  \n",
    "Модель удовлетворяет требованию заказчика по величине среднеквадратичной ошибки.  \n",
    "2. Были выявлены сезонность и тренд количества заказов:\n",
    "   - За представленный период наблюдается рост в 2 раза;\n",
    "   - Последние два месяца рост носит линейный характер;\n",
    "   - Суточная сезонность: в ночное время количество заказов минимально, в утренние и дневные часы наблюдается рост до пикового значения в вечерние часы;\n",
    "   - Недельная сезонность: в понедельник количечтво заказов максимально, во вторник достигает минимума. До четверга наблюдается постепенный рост заказов, а в выходные - снижение;\n",
    "   - Полученные выводы не противоречат реальности, что очень хорошо\n",
    "3. Как и во всех моделях для предсказания временных рядов, дообучение на новых данных позволит улучшить метрики качества и уточнить предсказания.\n"
   ]
  }
 ],
 "metadata": {
  "ExecuteTimeLog": [
   {
    "duration": 4699,
    "start_time": "2024-11-06T10:00:54.250Z"
   },
   {
    "duration": 21202,
    "start_time": "2024-11-06T23:42:06.020Z"
   },
   {
    "duration": 20535,
    "start_time": "2024-11-06T23:42:27.223Z"
   },
   {
    "duration": 4,
    "start_time": "2024-11-06T23:42:47.759Z"
   },
   {
    "duration": 199,
    "start_time": "2024-11-06T23:42:47.764Z"
   },
   {
    "duration": 59,
    "start_time": "2024-11-06T23:42:47.964Z"
   },
   {
    "duration": 3,
    "start_time": "2024-11-06T23:42:48.025Z"
   },
   {
    "duration": 16,
    "start_time": "2024-11-06T23:42:48.030Z"
   },
   {
    "duration": 7,
    "start_time": "2024-11-06T23:42:48.048Z"
   },
   {
    "duration": 67,
    "start_time": "2024-11-06T23:42:48.057Z"
   },
   {
    "duration": 916,
    "start_time": "2024-11-06T23:42:48.126Z"
   },
   {
    "duration": 1814,
    "start_time": "2024-11-06T23:42:49.044Z"
   },
   {
    "duration": 0,
    "start_time": "2024-11-06T23:42:50.860Z"
   },
   {
    "duration": 0,
    "start_time": "2024-11-06T23:42:50.861Z"
   },
   {
    "duration": 0,
    "start_time": "2024-11-06T23:42:50.862Z"
   },
   {
    "duration": 0,
    "start_time": "2024-11-06T23:42:50.863Z"
   },
   {
    "duration": 0,
    "start_time": "2024-11-06T23:42:50.865Z"
   },
   {
    "duration": 0,
    "start_time": "2024-11-06T23:42:50.866Z"
   },
   {
    "duration": 0,
    "start_time": "2024-11-06T23:42:50.867Z"
   },
   {
    "duration": 0,
    "start_time": "2024-11-06T23:42:50.868Z"
   },
   {
    "duration": 0,
    "start_time": "2024-11-06T23:42:50.869Z"
   },
   {
    "duration": 0,
    "start_time": "2024-11-06T23:42:50.870Z"
   },
   {
    "duration": 0,
    "start_time": "2024-11-06T23:42:50.871Z"
   },
   {
    "duration": 0,
    "start_time": "2024-11-06T23:42:50.872Z"
   },
   {
    "duration": 0,
    "start_time": "2024-11-06T23:42:50.872Z"
   },
   {
    "duration": 0,
    "start_time": "2024-11-06T23:42:50.873Z"
   },
   {
    "duration": 0,
    "start_time": "2024-11-06T23:42:50.875Z"
   },
   {
    "duration": 0,
    "start_time": "2024-11-06T23:42:50.876Z"
   },
   {
    "duration": 0,
    "start_time": "2024-11-06T23:42:50.877Z"
   },
   {
    "duration": 0,
    "start_time": "2024-11-06T23:42:50.878Z"
   },
   {
    "duration": 0,
    "start_time": "2024-11-06T23:42:50.921Z"
   },
   {
    "duration": 0,
    "start_time": "2024-11-06T23:42:50.922Z"
   },
   {
    "duration": 0,
    "start_time": "2024-11-06T23:42:50.923Z"
   },
   {
    "duration": 0,
    "start_time": "2024-11-06T23:42:50.924Z"
   },
   {
    "duration": 0,
    "start_time": "2024-11-06T23:42:50.925Z"
   },
   {
    "duration": 12,
    "start_time": "2024-11-07T00:07:09.966Z"
   },
   {
    "duration": 3,
    "start_time": "2024-11-07T00:07:17.377Z"
   },
   {
    "duration": 51,
    "start_time": "2024-11-07T04:29:57.800Z"
   },
   {
    "duration": 1937,
    "start_time": "2024-11-07T04:30:07.550Z"
   },
   {
    "duration": 4513,
    "start_time": "2024-11-07T04:30:15.718Z"
   },
   {
    "duration": 487,
    "start_time": "2024-11-07T04:30:24.172Z"
   },
   {
    "duration": 5,
    "start_time": "2024-11-07T04:30:31.262Z"
   },
   {
    "duration": 165,
    "start_time": "2024-11-07T04:30:32.543Z"
   },
   {
    "duration": 11,
    "start_time": "2024-11-07T04:30:33.580Z"
   },
   {
    "duration": 2478,
    "start_time": "2024-11-07T04:30:54.632Z"
   },
   {
    "duration": 1988,
    "start_time": "2024-11-07T04:30:57.112Z"
   },
   {
    "duration": 4,
    "start_time": "2024-11-07T04:30:59.102Z"
   },
   {
    "duration": 108,
    "start_time": "2024-11-07T04:30:59.108Z"
   },
   {
    "duration": 10,
    "start_time": "2024-11-07T04:30:59.219Z"
   },
   {
    "duration": 2,
    "start_time": "2024-11-07T04:30:59.231Z"
   },
   {
    "duration": 11,
    "start_time": "2024-11-07T04:30:59.235Z"
   },
   {
    "duration": 18,
    "start_time": "2024-11-07T04:30:59.247Z"
   },
   {
    "duration": 22,
    "start_time": "2024-11-07T04:30:59.266Z"
   },
   {
    "duration": 389,
    "start_time": "2024-11-07T04:30:59.290Z"
   },
   {
    "duration": 1643,
    "start_time": "2024-11-07T04:30:59.680Z"
   },
   {
    "duration": 0,
    "start_time": "2024-11-07T04:31:01.325Z"
   },
   {
    "duration": 0,
    "start_time": "2024-11-07T04:31:01.327Z"
   },
   {
    "duration": 0,
    "start_time": "2024-11-07T04:31:01.327Z"
   },
   {
    "duration": 0,
    "start_time": "2024-11-07T04:31:01.329Z"
   },
   {
    "duration": 0,
    "start_time": "2024-11-07T04:31:01.342Z"
   },
   {
    "duration": 0,
    "start_time": "2024-11-07T04:31:01.343Z"
   },
   {
    "duration": 0,
    "start_time": "2024-11-07T04:31:01.344Z"
   },
   {
    "duration": 0,
    "start_time": "2024-11-07T04:31:01.346Z"
   },
   {
    "duration": 0,
    "start_time": "2024-11-07T04:31:01.347Z"
   },
   {
    "duration": 0,
    "start_time": "2024-11-07T04:31:01.348Z"
   },
   {
    "duration": 0,
    "start_time": "2024-11-07T04:31:01.349Z"
   },
   {
    "duration": 0,
    "start_time": "2024-11-07T04:31:01.350Z"
   },
   {
    "duration": 0,
    "start_time": "2024-11-07T04:31:01.352Z"
   },
   {
    "duration": 0,
    "start_time": "2024-11-07T04:31:01.352Z"
   },
   {
    "duration": 0,
    "start_time": "2024-11-07T04:31:01.354Z"
   },
   {
    "duration": 0,
    "start_time": "2024-11-07T04:31:01.355Z"
   },
   {
    "duration": 0,
    "start_time": "2024-11-07T04:31:01.356Z"
   },
   {
    "duration": 0,
    "start_time": "2024-11-07T04:31:01.477Z"
   },
   {
    "duration": 0,
    "start_time": "2024-11-07T04:31:01.478Z"
   },
   {
    "duration": 0,
    "start_time": "2024-11-07T04:31:01.479Z"
   },
   {
    "duration": 0,
    "start_time": "2024-11-07T04:31:01.481Z"
   },
   {
    "duration": 0,
    "start_time": "2024-11-07T04:31:01.482Z"
   },
   {
    "duration": 0,
    "start_time": "2024-11-07T04:31:01.484Z"
   },
   {
    "duration": 244,
    "start_time": "2024-11-07T04:31:35.237Z"
   },
   {
    "duration": 224,
    "start_time": "2024-11-07T04:32:59.118Z"
   },
   {
    "duration": 217,
    "start_time": "2024-11-07T04:33:38.318Z"
   },
   {
    "duration": 2531,
    "start_time": "2024-11-07T04:38:23.163Z"
   },
   {
    "duration": 1865,
    "start_time": "2024-11-07T04:38:25.696Z"
   },
   {
    "duration": 4,
    "start_time": "2024-11-07T04:38:27.563Z"
   },
   {
    "duration": 96,
    "start_time": "2024-11-07T04:38:27.568Z"
   },
   {
    "duration": 10,
    "start_time": "2024-11-07T04:38:27.667Z"
   },
   {
    "duration": 7,
    "start_time": "2024-11-07T04:38:27.678Z"
   },
   {
    "duration": 13,
    "start_time": "2024-11-07T04:38:27.686Z"
   },
   {
    "duration": 11,
    "start_time": "2024-11-07T04:38:27.701Z"
   },
   {
    "duration": 30,
    "start_time": "2024-11-07T04:38:27.713Z"
   },
   {
    "duration": 414,
    "start_time": "2024-11-07T04:38:27.745Z"
   },
   {
    "duration": 281,
    "start_time": "2024-11-07T04:38:28.161Z"
   },
   {
    "duration": 1543,
    "start_time": "2024-11-07T04:38:28.443Z"
   },
   {
    "duration": 0,
    "start_time": "2024-11-07T04:38:29.988Z"
   },
   {
    "duration": 0,
    "start_time": "2024-11-07T04:38:29.990Z"
   },
   {
    "duration": 0,
    "start_time": "2024-11-07T04:38:29.991Z"
   },
   {
    "duration": 0,
    "start_time": "2024-11-07T04:38:29.993Z"
   },
   {
    "duration": 0,
    "start_time": "2024-11-07T04:38:29.995Z"
   },
   {
    "duration": 0,
    "start_time": "2024-11-07T04:38:29.996Z"
   },
   {
    "duration": 0,
    "start_time": "2024-11-07T04:38:29.998Z"
   },
   {
    "duration": 0,
    "start_time": "2024-11-07T04:38:30.000Z"
   },
   {
    "duration": 0,
    "start_time": "2024-11-07T04:38:30.001Z"
   },
   {
    "duration": 0,
    "start_time": "2024-11-07T04:38:30.094Z"
   },
   {
    "duration": 0,
    "start_time": "2024-11-07T04:38:30.095Z"
   },
   {
    "duration": 0,
    "start_time": "2024-11-07T04:38:30.097Z"
   },
   {
    "duration": 0,
    "start_time": "2024-11-07T04:38:30.099Z"
   },
   {
    "duration": 0,
    "start_time": "2024-11-07T04:38:30.100Z"
   },
   {
    "duration": 0,
    "start_time": "2024-11-07T04:38:30.101Z"
   },
   {
    "duration": 0,
    "start_time": "2024-11-07T04:38:30.103Z"
   },
   {
    "duration": 0,
    "start_time": "2024-11-07T04:38:30.105Z"
   },
   {
    "duration": 0,
    "start_time": "2024-11-07T04:38:30.106Z"
   },
   {
    "duration": 0,
    "start_time": "2024-11-07T04:38:30.108Z"
   },
   {
    "duration": 0,
    "start_time": "2024-11-07T04:38:30.109Z"
   },
   {
    "duration": 0,
    "start_time": "2024-11-07T04:38:30.111Z"
   },
   {
    "duration": 0,
    "start_time": "2024-11-07T04:38:30.112Z"
   },
   {
    "duration": 14,
    "start_time": "2024-11-07T04:39:27.345Z"
   },
   {
    "duration": 198,
    "start_time": "2024-11-07T04:39:30.915Z"
   },
   {
    "duration": 358,
    "start_time": "2024-11-07T04:39:33.911Z"
   },
   {
    "duration": 9,
    "start_time": "2024-11-07T04:39:37.506Z"
   },
   {
    "duration": 232,
    "start_time": "2024-11-07T04:39:38.788Z"
   },
   {
    "duration": 347,
    "start_time": "2024-11-07T04:39:43.811Z"
   },
   {
    "duration": 4,
    "start_time": "2024-11-07T04:39:48.952Z"
   },
   {
    "duration": 4,
    "start_time": "2024-11-07T04:39:54.984Z"
   },
   {
    "duration": 146,
    "start_time": "2024-11-07T04:39:55.838Z"
   },
   {
    "duration": 14,
    "start_time": "2024-11-07T04:39:58.159Z"
   },
   {
    "duration": 3,
    "start_time": "2024-11-07T04:39:58.996Z"
   },
   {
    "duration": 85,
    "start_time": "2024-11-07T04:39:59.533Z"
   },
   {
    "duration": 79,
    "start_time": "2024-11-07T04:40:07.403Z"
   },
   {
    "duration": 89,
    "start_time": "2024-11-07T04:40:47.968Z"
   },
   {
    "duration": 1643,
    "start_time": "2024-11-07T04:40:58.604Z"
   },
   {
    "duration": 1205,
    "start_time": "2024-11-07T04:41:03.645Z"
   },
   {
    "duration": 992,
    "start_time": "2024-11-07T04:41:07.158Z"
   },
   {
    "duration": 4,
    "start_time": "2024-11-07T04:41:10.148Z"
   },
   {
    "duration": 13636,
    "start_time": "2024-11-07T04:41:11.141Z"
   },
   {
    "duration": 28085,
    "start_time": "2024-11-07T04:41:24.779Z"
   },
   {
    "duration": 35200,
    "start_time": "2024-11-07T04:41:52.943Z"
   },
   {
    "duration": 16,
    "start_time": "2024-11-07T04:42:28.145Z"
   },
   {
    "duration": 76,
    "start_time": "2024-11-07T04:42:41.781Z"
   },
   {
    "duration": 323,
    "start_time": "2024-11-07T04:43:05.525Z"
   },
   {
    "duration": 204,
    "start_time": "2024-11-07T04:43:09.427Z"
   },
   {
    "duration": 195,
    "start_time": "2024-11-07T04:43:51.828Z"
   },
   {
    "duration": 23,
    "start_time": "2024-11-07T04:45:56.223Z"
   },
   {
    "duration": 201,
    "start_time": "2024-11-07T04:46:08.144Z"
   },
   {
    "duration": 25,
    "start_time": "2024-11-07T04:46:13.005Z"
   },
   {
    "duration": 208,
    "start_time": "2024-11-07T04:46:20.595Z"
   },
   {
    "duration": 2501,
    "start_time": "2024-11-07T04:52:06.811Z"
   },
   {
    "duration": 17607,
    "start_time": "2024-11-07T04:52:24.974Z"
   },
   {
    "duration": 5,
    "start_time": "2024-11-07T04:52:55.441Z"
   },
   {
    "duration": 2,
    "start_time": "2024-11-07T04:53:17.186Z"
   },
   {
    "duration": 240,
    "start_time": "2024-11-07T04:53:24.555Z"
   },
   {
    "duration": 227,
    "start_time": "2024-11-07T04:53:31.225Z"
   },
   {
    "duration": 192,
    "start_time": "2024-11-07T04:53:45.404Z"
   },
   {
    "duration": 3,
    "start_time": "2024-11-07T04:53:57.788Z"
   },
   {
    "duration": 540,
    "start_time": "2024-11-07T04:53:57.792Z"
   },
   {
    "duration": 0,
    "start_time": "2024-11-07T04:53:58.334Z"
   },
   {
    "duration": 0,
    "start_time": "2024-11-07T04:53:58.335Z"
   },
   {
    "duration": 0,
    "start_time": "2024-11-07T04:53:58.338Z"
   },
   {
    "duration": 0,
    "start_time": "2024-11-07T04:53:58.339Z"
   },
   {
    "duration": 0,
    "start_time": "2024-11-07T04:53:58.340Z"
   },
   {
    "duration": 0,
    "start_time": "2024-11-07T04:53:58.341Z"
   },
   {
    "duration": 0,
    "start_time": "2024-11-07T04:53:58.342Z"
   },
   {
    "duration": 0,
    "start_time": "2024-11-07T04:53:58.343Z"
   },
   {
    "duration": 0,
    "start_time": "2024-11-07T04:53:58.344Z"
   },
   {
    "duration": 0,
    "start_time": "2024-11-07T04:53:58.345Z"
   },
   {
    "duration": 0,
    "start_time": "2024-11-07T04:53:58.346Z"
   },
   {
    "duration": 0,
    "start_time": "2024-11-07T04:53:58.347Z"
   },
   {
    "duration": 0,
    "start_time": "2024-11-07T04:53:58.347Z"
   },
   {
    "duration": 0,
    "start_time": "2024-11-07T04:53:58.348Z"
   },
   {
    "duration": 0,
    "start_time": "2024-11-07T04:53:58.349Z"
   },
   {
    "duration": 0,
    "start_time": "2024-11-07T04:53:58.350Z"
   },
   {
    "duration": 0,
    "start_time": "2024-11-07T04:53:58.351Z"
   },
   {
    "duration": 0,
    "start_time": "2024-11-07T04:53:58.352Z"
   },
   {
    "duration": 0,
    "start_time": "2024-11-07T04:53:58.353Z"
   },
   {
    "duration": 0,
    "start_time": "2024-11-07T04:53:58.354Z"
   },
   {
    "duration": 0,
    "start_time": "2024-11-07T04:53:58.355Z"
   },
   {
    "duration": 0,
    "start_time": "2024-11-07T04:53:58.356Z"
   },
   {
    "duration": 0,
    "start_time": "2024-11-07T04:53:58.357Z"
   },
   {
    "duration": 0,
    "start_time": "2024-11-07T04:53:58.359Z"
   },
   {
    "duration": 0,
    "start_time": "2024-11-07T04:53:58.359Z"
   },
   {
    "duration": 0,
    "start_time": "2024-11-07T04:53:58.360Z"
   },
   {
    "duration": 0,
    "start_time": "2024-11-07T04:53:58.361Z"
   },
   {
    "duration": 0,
    "start_time": "2024-11-07T04:53:58.362Z"
   },
   {
    "duration": 0,
    "start_time": "2024-11-07T04:53:58.363Z"
   },
   {
    "duration": 0,
    "start_time": "2024-11-07T04:53:58.364Z"
   },
   {
    "duration": 0,
    "start_time": "2024-11-07T04:53:58.365Z"
   },
   {
    "duration": 0,
    "start_time": "2024-11-07T04:53:58.366Z"
   },
   {
    "duration": 3,
    "start_time": "2024-11-07T05:02:37.063Z"
   },
   {
    "duration": 505,
    "start_time": "2024-11-07T05:02:37.068Z"
   },
   {
    "duration": 0,
    "start_time": "2024-11-07T05:02:37.575Z"
   },
   {
    "duration": 0,
    "start_time": "2024-11-07T05:02:37.576Z"
   },
   {
    "duration": 0,
    "start_time": "2024-11-07T05:02:37.579Z"
   },
   {
    "duration": 0,
    "start_time": "2024-11-07T05:02:37.580Z"
   },
   {
    "duration": 0,
    "start_time": "2024-11-07T05:02:37.581Z"
   },
   {
    "duration": 0,
    "start_time": "2024-11-07T05:02:37.582Z"
   },
   {
    "duration": 0,
    "start_time": "2024-11-07T05:02:37.583Z"
   },
   {
    "duration": 0,
    "start_time": "2024-11-07T05:02:37.584Z"
   },
   {
    "duration": 0,
    "start_time": "2024-11-07T05:02:37.585Z"
   },
   {
    "duration": 0,
    "start_time": "2024-11-07T05:02:37.587Z"
   },
   {
    "duration": 0,
    "start_time": "2024-11-07T05:02:37.589Z"
   },
   {
    "duration": 0,
    "start_time": "2024-11-07T05:02:37.590Z"
   },
   {
    "duration": 0,
    "start_time": "2024-11-07T05:02:37.592Z"
   },
   {
    "duration": 0,
    "start_time": "2024-11-07T05:02:37.593Z"
   },
   {
    "duration": 0,
    "start_time": "2024-11-07T05:02:37.595Z"
   },
   {
    "duration": 0,
    "start_time": "2024-11-07T05:02:37.596Z"
   },
   {
    "duration": 0,
    "start_time": "2024-11-07T05:02:37.598Z"
   },
   {
    "duration": 0,
    "start_time": "2024-11-07T05:02:37.599Z"
   },
   {
    "duration": 0,
    "start_time": "2024-11-07T05:02:37.601Z"
   },
   {
    "duration": 0,
    "start_time": "2024-11-07T05:02:37.603Z"
   },
   {
    "duration": 0,
    "start_time": "2024-11-07T05:02:37.604Z"
   },
   {
    "duration": 0,
    "start_time": "2024-11-07T05:02:37.606Z"
   },
   {
    "duration": 0,
    "start_time": "2024-11-07T05:02:37.607Z"
   },
   {
    "duration": 0,
    "start_time": "2024-11-07T05:02:37.608Z"
   },
   {
    "duration": 0,
    "start_time": "2024-11-07T05:02:37.610Z"
   },
   {
    "duration": 0,
    "start_time": "2024-11-07T05:02:37.611Z"
   },
   {
    "duration": 0,
    "start_time": "2024-11-07T05:02:37.613Z"
   },
   {
    "duration": 0,
    "start_time": "2024-11-07T05:02:37.643Z"
   },
   {
    "duration": 1,
    "start_time": "2024-11-07T05:02:37.644Z"
   },
   {
    "duration": 0,
    "start_time": "2024-11-07T05:02:37.646Z"
   },
   {
    "duration": 0,
    "start_time": "2024-11-07T05:02:37.647Z"
   },
   {
    "duration": 0,
    "start_time": "2024-11-07T05:02:37.649Z"
   },
   {
    "duration": 1266,
    "start_time": "2024-11-07T05:05:16.827Z"
   },
   {
    "duration": 4461,
    "start_time": "2024-11-07T09:40:29.514Z"
   },
   {
    "duration": 3679,
    "start_time": "2024-11-07T09:40:33.977Z"
   },
   {
    "duration": 5,
    "start_time": "2024-11-07T09:40:49.469Z"
   },
   {
    "duration": 280,
    "start_time": "2024-11-07T09:40:50.410Z"
   },
   {
    "duration": 11,
    "start_time": "2024-11-07T09:40:51.659Z"
   },
   {
    "duration": 4,
    "start_time": "2024-11-07T09:40:52.231Z"
   },
   {
    "duration": 11,
    "start_time": "2024-11-07T09:40:52.601Z"
   },
   {
    "duration": 8,
    "start_time": "2024-11-07T09:40:54.293Z"
   },
   {
    "duration": 7,
    "start_time": "2024-11-07T09:40:55.306Z"
   },
   {
    "duration": 391,
    "start_time": "2024-11-07T09:40:56.114Z"
   },
   {
    "duration": 386,
    "start_time": "2024-11-07T09:40:56.762Z"
   },
   {
    "duration": 15,
    "start_time": "2024-11-07T09:40:58.580Z"
   },
   {
    "duration": 196,
    "start_time": "2024-11-07T09:40:59.133Z"
   },
   {
    "duration": 351,
    "start_time": "2024-11-07T09:41:00.433Z"
   },
   {
    "duration": 9,
    "start_time": "2024-11-07T09:41:01.347Z"
   },
   {
    "duration": 226,
    "start_time": "2024-11-07T09:41:01.676Z"
   },
   {
    "duration": 370,
    "start_time": "2024-11-07T09:41:03.541Z"
   },
   {
    "duration": 6,
    "start_time": "2024-11-07T09:41:05.929Z"
   },
   {
    "duration": 3,
    "start_time": "2024-11-07T09:41:08.794Z"
   },
   {
    "duration": 142,
    "start_time": "2024-11-07T09:41:09.846Z"
   },
   {
    "duration": 12,
    "start_time": "2024-11-07T09:41:11.251Z"
   },
   {
    "duration": 3,
    "start_time": "2024-11-07T09:41:11.986Z"
   },
   {
    "duration": 91,
    "start_time": "2024-11-07T09:41:12.716Z"
   },
   {
    "duration": 3182,
    "start_time": "2024-11-07T09:41:14.451Z"
   },
   {
    "duration": 1486,
    "start_time": "2024-11-07T09:41:17.636Z"
   },
   {
    "duration": 1314,
    "start_time": "2024-11-07T09:41:19.123Z"
   },
   {
    "duration": 82,
    "start_time": "2024-11-07T09:41:20.441Z"
   },
   {
    "duration": 13605,
    "start_time": "2024-11-07T09:41:20.524Z"
   },
   {
    "duration": 224803,
    "start_time": "2024-11-07T09:41:34.136Z"
   },
   {
    "duration": 194800,
    "start_time": "2024-11-07T09:45:18.941Z"
   },
   {
    "duration": 17,
    "start_time": "2024-11-07T09:48:33.743Z"
   },
   {
    "duration": 258,
    "start_time": "2024-11-07T09:48:33.762Z"
   },
   {
    "duration": 408,
    "start_time": "2024-11-07T09:48:34.026Z"
   },
   {
    "duration": 2,
    "start_time": "2024-11-07T09:48:34.436Z"
   }
  ],
  "kernelspec": {
   "display_name": "Python 3 (ipykernel)",
   "language": "python",
   "name": "python3"
  },
  "language_info": {
   "codemirror_mode": {
    "name": "ipython",
    "version": 3
   },
   "file_extension": ".py",
   "mimetype": "text/x-python",
   "name": "python",
   "nbconvert_exporter": "python",
   "pygments_lexer": "ipython3",
   "version": "3.11.11"
  },
  "toc": {
   "base_numbering": 1,
   "nav_menu": {},
   "number_sections": true,
   "sideBar": true,
   "skip_h1_title": true,
   "title_cell": "Table of Contents",
   "title_sidebar": "Contents",
   "toc_cell": false,
   "toc_position": {},
   "toc_section_display": true,
   "toc_window_display": false
  }
 },
 "nbformat": 4,
 "nbformat_minor": 5
}
