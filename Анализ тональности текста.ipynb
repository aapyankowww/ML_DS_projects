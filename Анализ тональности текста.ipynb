{
 "cells": [
  {
   "cell_type": "markdown",
   "metadata": {},
   "source": [
    "# Проект для «Викишоп»"
   ]
  },
  {
   "cell_type": "markdown",
   "metadata": {},
   "source": [
    "Интернет-магазин «Викишоп» запускает новый сервис. Теперь пользователи могут редактировать и дополнять описания товаров, как в вики-сообществах. То есть клиенты предлагают свои правки и комментируют изменения других. Магазину нужен инструмент, который будет искать токсичные комментарии и отправлять их на модерацию. \n",
    "\n",
    "**Задачи проекта**\n",
    "1. Обучить модель классифицировать комментарии на позитивные и негативные. В распоряжении набор данных с разметкой о токсичности правок.\n",
    "2. Построить модель со значением метрики качества *F1* не меньше 0.75. \n",
    "\n",
    "\n",
    "**Описание данных**\n",
    "\n",
    "Данные находятся в файле `toxic_comments.csv`. Столбец *text* в нём содержит текст комментария, а *toxic* — целевой признак.\n",
    "\n",
    "**Шаги проекта**\n",
    "1. Проверка данных\n",
    "2. Очищение и лемантизация комментариев\n",
    "3. Разделение данных на обучающий и тестовый набор\n",
    "4. Поиск лучшей модели по метрике F1\n",
    "5. Проверка лучшей модели на тестовых данных"
   ]
  },
  {
   "cell_type": "code",
   "execution_count": 1,
   "metadata": {},
   "outputs": [
    {
     "name": "stderr",
     "output_type": "stream",
     "text": [
      "[nltk_data] Downloading package stopwords to /home/jovyan/nltk_data...\n",
      "[nltk_data]   Package stopwords is already up-to-date!\n",
      "[nltk_data] Downloading package wordnet to /home/jovyan/nltk_data...\n",
      "[nltk_data]   Package wordnet is already up-to-date!\n"
     ]
    }
   ],
   "source": [
    "import pandas as pd\n",
    "import re\n",
    "import nltk\n",
    "nltk.download('stopwords')\n",
    "nltk.download('wordnet')\n",
    "from nltk.stem import WordNetLemmatizer\n",
    "from nltk.corpus import stopwords as nltk_stopwords\n",
    "from sklearn.feature_extraction.text import TfidfVectorizer\n",
    "from sklearn.linear_model import LogisticRegression\n",
    "from sklearn.ensemble import RandomForestClassifier\n",
    "from sklearn.pipeline import Pipeline\n",
    "from sklearn.model_selection import RandomizedSearchCV,GridSearchCV \n",
    "from sklearn.metrics import f1_score\n",
    "import numpy as np\n",
    "from sklearn.model_selection import train_test_split\n",
    "import warnings\n",
    "warnings.filterwarnings('ignore')\n",
    "\n",
    "import spacy\n",
    "nlp = spacy.load('en_core_web_sm')"
   ]
  },
  {
   "cell_type": "code",
   "execution_count": 2,
   "metadata": {},
   "outputs": [],
   "source": [
    "from tqdm.auto import tqdm\n",
    "tqdm.pandas()"
   ]
  },
  {
   "cell_type": "markdown",
   "metadata": {},
   "source": [
    "## Подготовка"
   ]
  },
  {
   "cell_type": "markdown",
   "metadata": {},
   "source": [
    "### Загрузка и проверка данных"
   ]
  },
  {
   "cell_type": "code",
   "execution_count": 3,
   "metadata": {},
   "outputs": [],
   "source": [
    "data = pd.read_csv('https://code.s3.yandex.net/datasets/toxic_comments.csv')"
   ]
  },
  {
   "cell_type": "code",
   "execution_count": 4,
   "metadata": {},
   "outputs": [
    {
     "name": "stdout",
     "output_type": "stream",
     "text": [
      "<class 'pandas.core.frame.DataFrame'>\n",
      "RangeIndex: 159292 entries, 0 to 159291\n",
      "Data columns (total 3 columns):\n",
      " #   Column      Non-Null Count   Dtype \n",
      "---  ------      --------------   ----- \n",
      " 0   Unnamed: 0  159292 non-null  int64 \n",
      " 1   text        159292 non-null  object\n",
      " 2   toxic       159292 non-null  int64 \n",
      "dtypes: int64(2), object(1)\n",
      "memory usage: 3.6+ MB\n"
     ]
    }
   ],
   "source": [
    "data.info()"
   ]
  },
  {
   "cell_type": "code",
   "execution_count": 5,
   "metadata": {},
   "outputs": [
    {
     "name": "stdout",
     "output_type": "stream",
     "text": [
      "Дубликатов в данных: 0\n"
     ]
    }
   ],
   "source": [
    "print('Дубликатов в данных:', data.duplicated().sum())"
   ]
  },
  {
   "cell_type": "code",
   "execution_count": 25,
   "metadata": {},
   "outputs": [
    {
     "name": "stdout",
     "output_type": "stream",
     "text": [
      "Токсичных комментариев 10.16 %\n"
     ]
    }
   ],
   "source": [
    "print('Токсичных комментариев',round(100*data[data['toxic'] == 1]['toxic'].count()/len(data),2),'%')"
   ]
  },
  {
   "cell_type": "markdown",
   "metadata": {},
   "source": [
    "### Очистка и лемантизация комментариев"
   ]
  },
  {
   "cell_type": "code",
   "execution_count": 6,
   "metadata": {},
   "outputs": [],
   "source": [
    "def lemmatizer_spacy(text):        \n",
    "    sent = []\n",
    "    string = nlp(text)\n",
    "    for word in string:\n",
    "        sent.append(word.lemma_)\n",
    "    return \" \".join(sent)"
   ]
  },
  {
   "cell_type": "code",
   "execution_count": 7,
   "metadata": {},
   "outputs": [],
   "source": [
    "lemmatizer = WordNetLemmatizer()\n",
    "def lemmatizer_wnl(text):        \n",
    "    sent = []\n",
    "    string = nltk.word_tokenize(text)\n",
    "    for word in string:\n",
    "        sent.append(lemmatizer.lemmatize(word))\n",
    "    return \" \".join(sent)"
   ]
  },
  {
   "cell_type": "code",
   "execution_count": 8,
   "metadata": {},
   "outputs": [],
   "source": [
    "def text_cleaner(string):\n",
    "    string = re.sub(r\"(?:\\n|\\r)\", \" \", string)\n",
    "    string = re.sub(r\"[^a-zA-Z ]+\", \"\", string).strip()\n",
    "    srting = string.lower()\n",
    "    return srting"
   ]
  },
  {
   "cell_type": "code",
   "execution_count": 9,
   "metadata": {
    "scrolled": true
   },
   "outputs": [
    {
     "data": {
      "application/vnd.jupyter.widget-view+json": {
       "model_id": "debc14476c2340e6892ee5c67bc0a3a9",
       "version_major": 2,
       "version_minor": 0
      },
      "text/plain": [
       "  0%|          | 0/159292 [00:00<?, ?it/s]"
      ]
     },
     "metadata": {},
     "output_type": "display_data"
    }
   ],
   "source": [
    "data['text'] = data['text'].progress_apply(text_cleaner)"
   ]
  },
  {
   "cell_type": "markdown",
   "metadata": {},
   "source": [
    "**Лемантизация и обучение на всей выборке длится огромное время, возьмем подвыброрку в 10000 строк. Мощности юпитерхаб от яндекса не позволяют быстро проводить такие вычисления.**"
   ]
  },
  {
   "cell_type": "code",
   "execution_count": 10,
   "metadata": {},
   "outputs": [],
   "source": [
    "# код для сэмплирования\n",
    "#df = pd.DataFrame()\n",
    "#df = data.sample(10000)\n",
    "#df['lem'] = df.text.progress_apply(lemmatizer)"
   ]
  },
  {
   "cell_type": "code",
   "execution_count": 10,
   "metadata": {
    "scrolled": true
   },
   "outputs": [],
   "source": [
    "#data['lem'] = data['text'].progress_apply(lemmatizer_spacy)"
   ]
  },
  {
   "cell_type": "code",
   "execution_count": 11,
   "metadata": {},
   "outputs": [],
   "source": [
    "#data['lem'] = data['text']"
   ]
  },
  {
   "cell_type": "code",
   "execution_count": 10,
   "metadata": {},
   "outputs": [
    {
     "data": {
      "application/vnd.jupyter.widget-view+json": {
       "model_id": "80c9b4df3dfb4e1cb9f09963d4283c67",
       "version_major": 2,
       "version_minor": 0
      },
      "text/plain": [
       "  0%|          | 0/159292 [00:00<?, ?it/s]"
      ]
     },
     "metadata": {},
     "output_type": "display_data"
    }
   ],
   "source": [
    "data['lem'] = data['text'].progress_apply(lemmatizer_wnl)"
   ]
  },
  {
   "cell_type": "markdown",
   "metadata": {},
   "source": [
    "## Обучение"
   ]
  },
  {
   "cell_type": "markdown",
   "metadata": {},
   "source": [
    "### Разделение данных"
   ]
  },
  {
   "cell_type": "code",
   "execution_count": 11,
   "metadata": {},
   "outputs": [],
   "source": [
    "data_train, data_test = train_test_split(data, test_size=0.3, random_state=42)\n",
    "# для сэмпла данных data_train, data_test = train_test_split(df, test_size=0.3, random_state=42)\n",
    "\n"
   ]
  },
  {
   "cell_type": "markdown",
   "metadata": {},
   "source": [
    "### Создание корпуса слов и TFIDF"
   ]
  },
  {
   "cell_type": "code",
   "execution_count": 12,
   "metadata": {},
   "outputs": [],
   "source": [
    "stopwords = set(nltk_stopwords.words('english'))\n",
    "count_tf_idf = TfidfVectorizer(stop_words=stopwords)\n",
    "\n",
    "corpus = data_train['lem'].values\n",
    "corpus_test = data_test['lem'].values\n",
    "\n",
    "tfidf_train = count_tf_idf.fit_transform(corpus)\n",
    "tfidf_test = count_tf_idf.transform(corpus_test)\n"
   ]
  },
  {
   "cell_type": "markdown",
   "metadata": {},
   "source": [
    "### Логистическая регрессия"
   ]
  },
  {
   "cell_type": "code",
   "execution_count": null,
   "metadata": {
    "scrolled": true
   },
   "outputs": [
    {
     "name": "stdout",
     "output_type": "stream",
     "text": [
      "Fitting 3 folds for each of 14 candidates, totalling 42 fits\n"
     ]
    }
   ],
   "source": [
    "%%time\n",
    "\n",
    "#долгий поиск, лучше не запускать в юпитерхаб\n",
    "pipe = Pipeline([\n",
    "    (\n",
    "    ('model', LogisticRegression(random_state=42, solver='saga', max_iter=200))\n",
    "    )\n",
    "    ])\n",
    "\n",
    "param_distributions = [\n",
    "        {\n",
    "\n",
    "            'model': [LogisticRegression(random_state=42, solver='saga',max_iter=200,class_weight='balanced')],\n",
    "            'model__penalty' : ['l1'],\n",
    "            'model__C': list(range(1,15,1))\n",
    "        }\n",
    "]\n",
    "grid_search = GridSearchCV(pipe, param_grid=param_distributions, \n",
    "                                       scoring='f1', cv=3, verbose=2, n_jobs=-1)\n",
    "\n",
    "lr = grid_search.fit(tfidf_train,data_train.toxic)\n",
    "print('Best parameters is:', grid_search.best_params_)\n",
    "print('Best score is:', grid_search.best_score_)"
   ]
  },
  {
   "cell_type": "markdown",
   "metadata": {},
   "source": [
    "### Случайный лес"
   ]
  },
  {
   "cell_type": "code",
   "execution_count": 29,
   "metadata": {},
   "outputs": [
    {
     "name": "stdout",
     "output_type": "stream",
     "text": [
      "Fitting 3 folds for each of 10 candidates, totalling 30 fits\n",
      "[CV] END model=RandomForestClassifier(), model__max_depth=2, model__n_estimators=150; total time=   0.7s\n",
      "[CV] END model=RandomForestClassifier(), model__max_depth=2, model__n_estimators=150; total time=   0.7s\n",
      "[CV] END model=RandomForestClassifier(), model__max_depth=2, model__n_estimators=150; total time=   0.7s\n",
      "[CV] END model=RandomForestClassifier(), model__max_depth=3, model__n_estimators=60; total time=   0.4s\n",
      "[CV] END model=RandomForestClassifier(), model__max_depth=3, model__n_estimators=60; total time=   0.4s\n",
      "[CV] END model=RandomForestClassifier(), model__max_depth=3, model__n_estimators=60; total time=   0.4s\n",
      "[CV] END model=RandomForestClassifier(), model__max_depth=9, model__n_estimators=150; total time=   2.1s\n",
      "[CV] END model=RandomForestClassifier(), model__max_depth=9, model__n_estimators=150; total time=   2.1s\n",
      "[CV] END model=RandomForestClassifier(), model__max_depth=9, model__n_estimators=150; total time=   2.1s\n",
      "[CV] END model=RandomForestClassifier(), model__max_depth=8, model__n_estimators=130; total time=   1.6s\n",
      "[CV] END model=RandomForestClassifier(), model__max_depth=8, model__n_estimators=130; total time=   1.6s\n",
      "[CV] END model=RandomForestClassifier(), model__max_depth=8, model__n_estimators=130; total time=   1.6s\n",
      "[CV] END model=RandomForestClassifier(), model__max_depth=5, model__n_estimators=140; total time=   1.3s\n",
      "[CV] END model=RandomForestClassifier(), model__max_depth=5, model__n_estimators=140; total time=   1.2s\n",
      "[CV] END model=RandomForestClassifier(), model__max_depth=5, model__n_estimators=140; total time=   1.2s\n",
      "[CV] END model=RandomForestClassifier(), model__max_depth=6, model__n_estimators=100; total time=   1.0s\n",
      "[CV] END model=RandomForestClassifier(), model__max_depth=6, model__n_estimators=100; total time=   1.0s\n",
      "[CV] END model=RandomForestClassifier(), model__max_depth=6, model__n_estimators=100; total time=   1.0s\n",
      "[CV] END model=RandomForestClassifier(), model__max_depth=6, model__n_estimators=70; total time=   0.7s\n",
      "[CV] END model=RandomForestClassifier(), model__max_depth=6, model__n_estimators=70; total time=   0.7s\n",
      "[CV] END model=RandomForestClassifier(), model__max_depth=6, model__n_estimators=70; total time=   0.8s\n",
      "[CV] END model=RandomForestClassifier(), model__max_depth=7, model__n_estimators=130; total time=   1.5s\n",
      "[CV] END model=RandomForestClassifier(), model__max_depth=7, model__n_estimators=130; total time=   1.5s\n",
      "[CV] END model=RandomForestClassifier(), model__max_depth=7, model__n_estimators=130; total time=   1.4s\n",
      "[CV] END model=RandomForestClassifier(), model__max_depth=9, model__n_estimators=110; total time=   1.6s\n",
      "[CV] END model=RandomForestClassifier(), model__max_depth=9, model__n_estimators=110; total time=   1.5s\n",
      "[CV] END model=RandomForestClassifier(), model__max_depth=9, model__n_estimators=110; total time=   1.5s\n",
      "[CV] END model=RandomForestClassifier(), model__max_depth=4, model__n_estimators=150; total time=   1.1s\n",
      "[CV] END model=RandomForestClassifier(), model__max_depth=4, model__n_estimators=150; total time=   1.1s\n",
      "[CV] END model=RandomForestClassifier(), model__max_depth=4, model__n_estimators=150; total time=   1.1s\n",
      "Best parameters is: {'model__n_estimators': 150, 'model__max_depth': 2, 'model': RandomForestClassifier(max_depth=2, n_estimators=150)}\n",
      "Best score is: 0.0\n",
      "CPU times: user 35.8 s, sys: 72 ms, total: 35.9 s\n",
      "Wall time: 36 s\n"
     ]
    }
   ],
   "source": [
    "%%time\n",
    "pipe_2 = Pipeline([\n",
    "    (\n",
    "    ('model', RandomForestClassifier())\n",
    "    )\n",
    "    ])\n",
    "\n",
    "\n",
    "param_distributions_rf = [\n",
    "        {\n",
    "\n",
    "            'model': [RandomForestClassifier()],\n",
    "            'model__n_estimators': list(range(50,200,10)),\n",
    "            'model__max_depth': list(range(2,10,1))\n",
    "        }\n",
    "]\n",
    "randomized_search_2 = RandomizedSearchCV(pipe_2, param_distributions=param_distributions_rf, \n",
    "                                       scoring='f1', cv=3, verbose=2, n_jobs=-1)\n",
    "\n",
    "rf = randomized_search_2.fit(tfidf_train[:50000],data_train.toxic[:50000])\n",
    "print('Best parameters is:', randomized_search_2.best_params_)\n",
    "print('Best score is:', randomized_search_2.best_score_)"
   ]
  },
  {
   "cell_type": "markdown",
   "metadata": {},
   "source": [
    "**Модель случайного леса совершенно не подходит для данной задачи. Будем использовать логистическую регрессию**"
   ]
  },
  {
   "cell_type": "markdown",
   "metadata": {},
   "source": [
    "### Валидация лучшей модели"
   ]
  },
  {
   "cell_type": "code",
   "execution_count": 13,
   "metadata": {},
   "outputs": [
    {
     "name": "stdout",
     "output_type": "stream",
     "text": [
      "CPU times: user 53.3 s, sys: 37.6 ms, total: 53.4 s\n",
      "Wall time: 53.4 s\n"
     ]
    },
    {
     "data": {
      "text/plain": [
       "LogisticRegression(C=4, class_weight='balanced', max_iter=500, n_jobs=-1,\n",
       "                   random_state=42, solver='saga')"
      ]
     },
     "execution_count": 13,
     "metadata": {},
     "output_type": "execute_result"
    }
   ],
   "source": [
    "%%time\n",
    "lr = LogisticRegression(random_state=42, C=4, penalty ='l2', solver='saga', class_weight='balanced',\n",
    "                        max_iter=500, n_jobs=-1)\n",
    "lr.fit(tfidf_train, data_train.toxic)"
   ]
  },
  {
   "cell_type": "code",
   "execution_count": 15,
   "metadata": {},
   "outputs": [
    {
     "data": {
      "text/plain": [
       "0.7609615384615385"
      ]
     },
     "execution_count": 15,
     "metadata": {},
     "output_type": "execute_result"
    }
   ],
   "source": [
    "test_pred = lr.predict(tfidf_test)\n",
    "f1_score(data_test.toxic, test_pred)"
   ]
  },
  {
   "cell_type": "markdown",
   "metadata": {},
   "source": [
    "## Выводы"
   ]
  },
  {
   "cell_type": "markdown",
   "metadata": {},
   "source": [
    "Для предсказания тональности комментариев была использована модель логистической регрессии:\n",
    "1. Подготовка данных занимает большую часть времени, данные были очищены от лишних символов и приведены к начальным формам\n",
    "2. Использования части данных для обучения не позволяет достичь необходимой точности\n",
    "3. Были найдены гиперпараметры для логистической регресии:C=4, penalty ='l2', solver='saga', class_weight='balanced', max_iter=500, n_jobs=-1. При этих параметрах метрика составила 0.76\n",
    "\n"
   ]
  }
 ],
 "metadata": {
  "ExecuteTimeLog": [
   {
    "duration": 4707,
    "start_time": "2024-12-05T17:46:25.256Z"
   },
   {
    "duration": 3,
    "start_time": "2024-12-05T17:47:53.598Z"
   },
   {
    "duration": 2297,
    "start_time": "2024-12-05T17:48:12.109Z"
   },
   {
    "duration": 3,
    "start_time": "2024-12-05T17:51:03.783Z"
   },
   {
    "duration": 2702,
    "start_time": "2024-12-05T17:51:37.076Z"
   },
   {
    "duration": 727,
    "start_time": "2024-12-05T17:52:50.416Z"
   },
   {
    "duration": 354,
    "start_time": "2024-12-05T17:52:59.369Z"
   },
   {
    "duration": 378,
    "start_time": "2024-12-05T17:53:07.380Z"
   },
   {
    "duration": 36185,
    "start_time": "2024-12-05T17:53:27.316Z"
   },
   {
    "duration": 0,
    "start_time": "2024-12-05T17:54:03.503Z"
   },
   {
    "duration": 3,
    "start_time": "2024-12-05T17:54:05.849Z"
   },
   {
    "duration": 2345820,
    "start_time": "2024-12-05T17:54:31.343Z"
   },
   {
    "duration": 46,
    "start_time": "2024-12-06T07:31:09.575Z"
   },
   {
    "duration": 4723,
    "start_time": "2024-12-06T07:31:20.421Z"
   },
   {
    "duration": 3,
    "start_time": "2024-12-06T07:31:25.146Z"
   },
   {
    "duration": 14,
    "start_time": "2024-12-06T07:31:25.151Z"
   },
   {
    "duration": 2625,
    "start_time": "2024-12-06T07:31:25.167Z"
   },
   {
    "duration": 3,
    "start_time": "2024-12-06T07:31:27.794Z"
   },
   {
    "duration": 2551,
    "start_time": "2024-12-06T07:31:27.798Z"
   },
   {
    "duration": 2459820,
    "start_time": "2024-12-06T07:31:30.350Z"
   },
   {
    "duration": 37,
    "start_time": "2024-12-06T08:12:30.172Z"
   },
   {
    "duration": 4,
    "start_time": "2024-12-06T08:54:18.102Z"
   },
   {
    "duration": 13,
    "start_time": "2024-12-06T08:54:54.215Z"
   },
   {
    "duration": 2,
    "start_time": "2024-12-06T08:55:05.979Z"
   },
   {
    "duration": 10,
    "start_time": "2024-12-06T08:55:11.190Z"
   },
   {
    "duration": 8,
    "start_time": "2024-12-06T08:55:58.631Z"
   },
   {
    "duration": 23,
    "start_time": "2024-12-06T08:55:59.954Z"
   },
   {
    "duration": 13,
    "start_time": "2024-12-06T08:56:00.423Z"
   },
   {
    "duration": 59,
    "start_time": "2024-12-06T08:57:56.663Z"
   },
   {
    "duration": 357,
    "start_time": "2024-12-06T09:02:48.079Z"
   },
   {
    "duration": 13814,
    "start_time": "2024-12-06T09:03:26.380Z"
   },
   {
    "duration": 4,
    "start_time": "2024-12-06T09:03:47.078Z"
   },
   {
    "duration": 111,
    "start_time": "2024-12-06T09:10:40.777Z"
   },
   {
    "duration": 638,
    "start_time": "2024-12-06T09:10:48.577Z"
   },
   {
    "duration": 172,
    "start_time": "2024-12-06T09:11:08.035Z"
   },
   {
    "duration": 4852,
    "start_time": "2024-12-06T09:11:15.592Z"
   },
   {
    "duration": 4,
    "start_time": "2024-12-06T09:11:20.446Z"
   },
   {
    "duration": 2845,
    "start_time": "2024-12-06T09:11:20.452Z"
   },
   {
    "duration": 4,
    "start_time": "2024-12-06T09:11:23.299Z"
   },
   {
    "duration": 4,
    "start_time": "2024-12-06T09:11:23.306Z"
   },
   {
    "duration": 3147,
    "start_time": "2024-12-06T09:11:23.312Z"
   },
   {
    "duration": 2497088,
    "start_time": "2024-12-06T09:11:26.461Z"
   },
   {
    "duration": 10,
    "start_time": "2024-12-06T09:53:03.551Z"
   },
   {
    "duration": 80,
    "start_time": "2024-12-06T09:53:03.563Z"
   },
   {
    "duration": 13033,
    "start_time": "2024-12-06T09:53:03.644Z"
   },
   {
    "duration": 587546,
    "start_time": "2024-12-06T09:53:16.679Z"
   },
   {
    "duration": 7898,
    "start_time": "2024-12-06T10:04:36.409Z"
   },
   {
    "duration": 52,
    "start_time": "2024-12-06T10:05:51.510Z"
   },
   {
    "duration": 5406,
    "start_time": "2024-12-06T10:06:13.355Z"
   },
   {
    "duration": 3,
    "start_time": "2024-12-06T10:06:18.763Z"
   },
   {
    "duration": 2455,
    "start_time": "2024-12-06T10:06:18.767Z"
   },
   {
    "duration": 4,
    "start_time": "2024-12-06T10:06:21.224Z"
   },
   {
    "duration": 9,
    "start_time": "2024-12-06T10:06:21.231Z"
   },
   {
    "duration": 3498,
    "start_time": "2024-12-06T10:06:21.242Z"
   },
   {
    "duration": 2,
    "start_time": "2024-12-06T10:06:24.742Z"
   },
   {
    "duration": 11,
    "start_time": "2024-12-06T10:06:24.745Z"
   },
   {
    "duration": 48,
    "start_time": "2024-12-06T10:06:24.758Z"
   },
   {
    "duration": 1567,
    "start_time": "2024-12-06T10:06:24.809Z"
   },
   {
    "duration": 0,
    "start_time": "2024-12-06T10:06:26.377Z"
   },
   {
    "duration": 6,
    "start_time": "2024-12-06T10:06:42.621Z"
   },
   {
    "duration": 57,
    "start_time": "2024-12-06T10:06:44.561Z"
   },
   {
    "duration": 13072,
    "start_time": "2024-12-06T10:06:46.363Z"
   },
   {
    "duration": 54355,
    "start_time": "2024-12-06T10:06:59.437Z"
   },
   {
    "duration": 173564,
    "start_time": "2024-12-06T10:08:23.920Z"
   },
   {
    "duration": 188753,
    "start_time": "2024-12-06T10:12:29.855Z"
   },
   {
    "duration": 84918,
    "start_time": "2024-12-06T10:17:45.918Z"
   },
   {
    "duration": 19,
    "start_time": "2024-12-06T10:21:08.836Z"
   },
   {
    "duration": 1805356,
    "start_time": "2024-12-06T10:21:20.861Z"
   },
   {
    "duration": 40,
    "start_time": "2024-12-06T10:53:00.694Z"
   },
   {
    "duration": 30,
    "start_time": "2024-12-06T10:53:26.110Z"
   },
   {
    "duration": 45,
    "start_time": "2024-12-06T10:53:36.488Z"
   },
   {
    "duration": 4981,
    "start_time": "2024-12-06T11:02:54.375Z"
   },
   {
    "duration": 3,
    "start_time": "2024-12-06T11:02:59.358Z"
   },
   {
    "duration": 2320,
    "start_time": "2024-12-06T11:02:59.362Z"
   },
   {
    "duration": 3,
    "start_time": "2024-12-06T11:03:01.683Z"
   },
   {
    "duration": 26,
    "start_time": "2024-12-06T11:03:01.691Z"
   },
   {
    "duration": 3181,
    "start_time": "2024-12-06T11:03:01.719Z"
   },
   {
    "duration": 2379332,
    "start_time": "2024-12-06T11:03:04.902Z"
   },
   {
    "duration": 3,
    "start_time": "2024-12-06T11:42:44.236Z"
   },
   {
    "duration": 12,
    "start_time": "2024-12-06T11:42:44.240Z"
   },
   {
    "duration": 78,
    "start_time": "2024-12-06T11:42:44.254Z"
   },
   {
    "duration": 11813,
    "start_time": "2024-12-06T11:42:44.333Z"
   },
   {
    "duration": 87071,
    "start_time": "2024-12-06T11:42:56.148Z"
   },
   {
    "duration": 1703355,
    "start_time": "2024-12-06T11:44:23.221Z"
   },
   {
    "duration": 40,
    "start_time": "2024-12-06T12:12:46.579Z"
   },
   {
    "duration": 33,
    "start_time": "2024-12-06T15:29:27.825Z"
   },
   {
    "duration": 44,
    "start_time": "2024-12-06T15:30:15.164Z"
   },
   {
    "duration": 398,
    "start_time": "2024-12-06T15:31:04.357Z"
   },
   {
    "duration": 5002,
    "start_time": "2024-12-06T15:32:44.822Z"
   },
   {
    "duration": 3,
    "start_time": "2024-12-06T15:32:49.826Z"
   },
   {
    "duration": 2429,
    "start_time": "2024-12-06T15:32:49.830Z"
   },
   {
    "duration": 3,
    "start_time": "2024-12-06T15:32:52.261Z"
   },
   {
    "duration": 28,
    "start_time": "2024-12-06T15:32:52.266Z"
   },
   {
    "duration": 3067,
    "start_time": "2024-12-06T15:32:52.296Z"
   },
   {
    "duration": 2,
    "start_time": "2024-12-06T15:32:55.365Z"
   },
   {
    "duration": 24,
    "start_time": "2024-12-06T15:32:55.368Z"
   },
   {
    "duration": 13,
    "start_time": "2024-12-06T15:32:55.393Z"
   },
   {
    "duration": 29,
    "start_time": "2024-12-06T15:32:55.408Z"
   },
   {
    "duration": 1483,
    "start_time": "2024-12-06T15:33:00.009Z"
   },
   {
    "duration": 6,
    "start_time": "2024-12-06T15:33:10.480Z"
   },
   {
    "duration": 46,
    "start_time": "2024-12-06T15:33:12.170Z"
   },
   {
    "duration": 12104,
    "start_time": "2024-12-06T15:33:14.864Z"
   },
   {
    "duration": 85,
    "start_time": "2024-12-06T15:33:35.385Z"
   },
   {
    "duration": 10909,
    "start_time": "2024-12-06T15:34:01.676Z"
   },
   {
    "duration": 4,
    "start_time": "2024-12-06T15:39:46.734Z"
   },
   {
    "duration": 17240,
    "start_time": "2024-12-06T15:40:01.982Z"
   },
   {
    "duration": 25212,
    "start_time": "2024-12-06T15:41:13.045Z"
   },
   {
    "duration": 97,
    "start_time": "2024-12-06T15:42:58.912Z"
   },
   {
    "duration": 454,
    "start_time": "2024-12-06T15:43:29.748Z"
   },
   {
    "duration": 106,
    "start_time": "2024-12-06T15:43:34.021Z"
   },
   {
    "duration": 195,
    "start_time": "2024-12-06T15:43:51.525Z"
   },
   {
    "duration": 263183,
    "start_time": "2024-12-06T15:44:00.543Z"
   },
   {
    "duration": 94,
    "start_time": "2024-12-06T15:51:02.968Z"
   },
   {
    "duration": 27194,
    "start_time": "2024-12-06T15:51:10.853Z"
   },
   {
    "duration": 466321,
    "start_time": "2024-12-06T15:53:31.210Z"
   },
   {
    "duration": 4781,
    "start_time": "2024-12-06T16:04:45.871Z"
   },
   {
    "duration": 3,
    "start_time": "2024-12-06T16:04:51.885Z"
   },
   {
    "duration": 2477,
    "start_time": "2024-12-06T16:04:54.647Z"
   },
   {
    "duration": 15,
    "start_time": "2024-12-06T16:04:57.125Z"
   },
   {
    "duration": 330,
    "start_time": "2024-12-06T16:04:57.141Z"
   },
   {
    "duration": 18,
    "start_time": "2024-12-06T16:05:01.798Z"
   },
   {
    "duration": 227,
    "start_time": "2024-12-06T16:05:04.059Z"
   },
   {
    "duration": 197,
    "start_time": "2024-12-06T16:05:10.960Z"
   },
   {
    "duration": 194,
    "start_time": "2024-12-06T16:05:20.944Z"
   },
   {
    "duration": 87,
    "start_time": "2024-12-06T16:05:42.594Z"
   },
   {
    "duration": 19,
    "start_time": "2024-12-06T16:06:07.269Z"
   },
   {
    "duration": 206,
    "start_time": "2024-12-06T16:06:10.527Z"
   },
   {
    "duration": 3,
    "start_time": "2024-12-06T16:06:13.604Z"
   },
   {
    "duration": 3,
    "start_time": "2024-12-06T16:06:14.187Z"
   },
   {
    "duration": 3147,
    "start_time": "2024-12-06T16:06:15.108Z"
   },
   {
    "duration": 2275129,
    "start_time": "2024-12-06T16:06:24.288Z"
   },
   {
    "duration": 9,
    "start_time": "2024-12-06T16:44:19.419Z"
   },
   {
    "duration": 65,
    "start_time": "2024-12-06T16:44:19.429Z"
   },
   {
    "duration": 11497,
    "start_time": "2024-12-06T16:44:19.496Z"
   },
   {
    "duration": 83908,
    "start_time": "2024-12-06T16:44:30.994Z"
   },
   {
    "duration": 4941,
    "start_time": "2024-12-06T16:53:02.441Z"
   },
   {
    "duration": 2,
    "start_time": "2024-12-06T16:53:07.384Z"
   },
   {
    "duration": 2126,
    "start_time": "2024-12-06T16:53:07.387Z"
   },
   {
    "duration": 13,
    "start_time": "2024-12-06T16:53:09.515Z"
   },
   {
    "duration": 223,
    "start_time": "2024-12-06T16:53:09.530Z"
   },
   {
    "duration": 2,
    "start_time": "2024-12-06T16:53:09.755Z"
   },
   {
    "duration": 7,
    "start_time": "2024-12-06T16:53:09.759Z"
   },
   {
    "duration": 3007,
    "start_time": "2024-12-06T16:53:09.767Z"
   },
   {
    "duration": 2263430,
    "start_time": "2024-12-06T16:53:12.776Z"
   },
   {
    "duration": 3,
    "start_time": "2024-12-06T17:30:56.207Z"
   },
   {
    "duration": 20,
    "start_time": "2024-12-06T17:30:56.211Z"
   },
   {
    "duration": 71,
    "start_time": "2024-12-06T17:30:56.233Z"
   },
   {
    "duration": 11559,
    "start_time": "2024-12-06T17:30:56.305Z"
   },
   {
    "duration": 83132,
    "start_time": "2024-12-06T17:31:07.867Z"
   },
   {
    "duration": 109,
    "start_time": "2024-12-06T17:33:32.419Z"
   },
   {
    "duration": 4830,
    "start_time": "2024-12-06T17:36:14.752Z"
   },
   {
    "duration": 3,
    "start_time": "2024-12-06T17:36:19.583Z"
   },
   {
    "duration": 2574,
    "start_time": "2024-12-06T17:36:22.752Z"
   },
   {
    "duration": 14,
    "start_time": "2024-12-06T17:36:25.328Z"
   },
   {
    "duration": 229,
    "start_time": "2024-12-06T17:36:25.343Z"
   },
   {
    "duration": 190,
    "start_time": "2024-12-06T17:36:31.444Z"
   },
   {
    "duration": 2,
    "start_time": "2024-12-06T17:36:35.450Z"
   },
   {
    "duration": 3,
    "start_time": "2024-12-06T17:36:35.891Z"
   },
   {
    "duration": 3017,
    "start_time": "2024-12-06T17:36:37.030Z"
   },
   {
    "duration": 161421,
    "start_time": "2024-12-06T17:36:46.523Z"
   },
   {
    "duration": 4726,
    "start_time": "2024-12-06T17:39:58.427Z"
   },
   {
    "duration": 3,
    "start_time": "2024-12-06T17:40:03.155Z"
   },
   {
    "duration": 2315,
    "start_time": "2024-12-06T17:40:03.160Z"
   },
   {
    "duration": 23,
    "start_time": "2024-12-06T17:40:05.477Z"
   },
   {
    "duration": 32,
    "start_time": "2024-12-06T17:40:10.966Z"
   },
   {
    "duration": 217,
    "start_time": "2024-12-06T17:40:12.930Z"
   },
   {
    "duration": 3,
    "start_time": "2024-12-06T17:40:16.031Z"
   },
   {
    "duration": 4,
    "start_time": "2024-12-06T17:40:17.608Z"
   },
   {
    "duration": 3052,
    "start_time": "2024-12-06T17:40:20.272Z"
   },
   {
    "duration": 289405,
    "start_time": "2024-12-06T17:41:22.272Z"
   },
   {
    "duration": 16,
    "start_time": "2024-12-06T17:46:41.691Z"
   },
   {
    "duration": 455,
    "start_time": "2024-12-06T17:46:48.393Z"
   },
   {
    "duration": 4,
    "start_time": "2024-12-06T17:46:49.250Z"
   },
   {
    "duration": 18,
    "start_time": "2024-12-06T17:46:54.127Z"
   },
   {
    "duration": 18,
    "start_time": "2024-12-06T17:47:05.403Z"
   },
   {
    "duration": 18,
    "start_time": "2024-12-06T17:47:35.652Z"
   },
   {
    "duration": 296227,
    "start_time": "2024-12-06T17:47:42.465Z"
   },
   {
    "duration": 3,
    "start_time": "2024-12-06T17:52:48.731Z"
   },
   {
    "duration": 7,
    "start_time": "2024-12-06T17:52:54.976Z"
   },
   {
    "duration": 1552,
    "start_time": "2024-12-06T17:52:57.097Z"
   },
   {
    "duration": 8506,
    "start_time": "2024-12-06T17:53:05.415Z"
   },
   {
    "duration": 326384,
    "start_time": "2024-12-06T17:53:19.421Z"
   },
   {
    "duration": 442174,
    "start_time": "2024-12-06T17:59:14.839Z"
   },
   {
    "duration": 7214,
    "start_time": "2024-12-06T18:07:23.716Z"
   },
   {
    "duration": 568,
    "start_time": "2024-12-06T18:07:56.228Z"
   },
   {
    "duration": 6,
    "start_time": "2024-12-06T18:08:04.022Z"
   },
   {
    "duration": 590,
    "start_time": "2024-12-06T18:08:41.928Z"
   },
   {
    "duration": 9,
    "start_time": "2024-12-06T18:08:44.360Z"
   },
   {
    "duration": 35983,
    "start_time": "2024-12-06T18:09:45.158Z"
   },
   {
    "duration": 2310816,
    "start_time": "2024-12-06T18:11:37.448Z"
   },
   {
    "duration": 70,
    "start_time": "2024-12-06T18:50:18.261Z"
   },
   {
    "duration": 5306,
    "start_time": "2024-12-06T18:52:45.373Z"
   },
   {
    "duration": 4,
    "start_time": "2024-12-06T18:52:50.682Z"
   },
   {
    "duration": 2479,
    "start_time": "2024-12-06T18:52:52.112Z"
   },
   {
    "duration": 31,
    "start_time": "2024-12-06T18:52:54.593Z"
   },
   {
    "duration": 237,
    "start_time": "2024-12-06T18:52:54.842Z"
   },
   {
    "duration": 3,
    "start_time": "2024-12-06T18:52:58.119Z"
   },
   {
    "duration": 3,
    "start_time": "2024-12-06T18:52:58.289Z"
   },
   {
    "duration": 3281,
    "start_time": "2024-12-06T18:53:00.149Z"
   },
   {
    "duration": 168405,
    "start_time": "2024-12-06T18:53:25.648Z"
   },
   {
    "duration": 8,
    "start_time": "2024-12-06T18:57:08.609Z"
   },
   {
    "duration": 807,
    "start_time": "2024-12-06T18:57:10.708Z"
   },
   {
    "duration": 4145,
    "start_time": "2024-12-06T18:57:15.225Z"
   },
   {
    "duration": 328,
    "start_time": "2024-12-06T18:57:28.485Z"
   },
   {
    "duration": 7,
    "start_time": "2024-12-06T18:57:31.897Z"
   },
   {
    "duration": 74964,
    "start_time": "2024-12-06T18:57:42.427Z"
   },
   {
    "duration": 13309,
    "start_time": "2024-12-06T18:59:44.004Z"
   },
   {
    "duration": 7,
    "start_time": "2024-12-06T19:00:11.460Z"
   },
   {
    "duration": 9,
    "start_time": "2024-12-06T19:01:18.223Z"
   },
   {
    "duration": 866,
    "start_time": "2024-12-06T19:01:20.978Z"
   },
   {
    "duration": 14889,
    "start_time": "2024-12-06T19:01:25.738Z"
   },
   {
    "duration": 11,
    "start_time": "2024-12-06T19:01:46.106Z"
   },
   {
    "duration": 53,
    "start_time": "2024-12-06T19:01:47.411Z"
   },
   {
    "duration": 13102,
    "start_time": "2024-12-06T19:01:48.561Z"
   },
   {
    "duration": 4930,
    "start_time": "2024-12-06T19:12:12.808Z"
   },
   {
    "duration": 3,
    "start_time": "2024-12-06T19:12:19.051Z"
   },
   {
    "duration": 2741,
    "start_time": "2024-12-06T19:12:21.224Z"
   },
   {
    "duration": 35,
    "start_time": "2024-12-06T19:12:23.966Z"
   },
   {
    "duration": 223,
    "start_time": "2024-12-06T19:12:26.832Z"
   },
   {
    "duration": 3,
    "start_time": "2024-12-06T19:12:28.527Z"
   },
   {
    "duration": 10,
    "start_time": "2024-12-06T19:12:55.189Z"
   },
   {
    "duration": 3,
    "start_time": "2024-12-06T19:12:55.800Z"
   },
   {
    "duration": 3182,
    "start_time": "2024-12-06T19:12:56.939Z"
   },
   {
    "duration": 29032,
    "start_time": "2024-12-06T19:13:03.113Z"
   },
   {
    "duration": 2400,
    "start_time": "2024-12-06T19:14:21.918Z"
   },
   {
    "duration": 18,
    "start_time": "2024-12-06T19:14:31.663Z"
   },
   {
    "duration": 23,
    "start_time": "2024-12-06T19:14:35.459Z"
   },
   {
    "duration": 1193,
    "start_time": "2024-12-06T19:14:37.618Z"
   },
   {
    "duration": 7,
    "start_time": "2024-12-06T19:14:52.302Z"
   },
   {
    "duration": 51,
    "start_time": "2024-12-06T19:14:58.126Z"
   },
   {
    "duration": 13430,
    "start_time": "2024-12-06T19:14:59.576Z"
   },
   {
    "duration": 485,
    "start_time": "2024-12-06T19:20:13.536Z"
   },
   {
    "duration": 3,
    "start_time": "2024-12-06T19:20:22.865Z"
   },
   {
    "duration": 2119,
    "start_time": "2024-12-06T19:20:32.789Z"
   },
   {
    "duration": 35,
    "start_time": "2024-12-06T19:20:34.910Z"
   },
   {
    "duration": 227,
    "start_time": "2024-12-06T19:20:36.587Z"
   },
   {
    "duration": 3,
    "start_time": "2024-12-06T19:21:05.872Z"
   },
   {
    "duration": 3,
    "start_time": "2024-12-06T19:21:07.159Z"
   },
   {
    "duration": 3184,
    "start_time": "2024-12-06T19:21:07.934Z"
   },
   {
    "duration": 3,
    "start_time": "2024-12-06T19:21:25.633Z"
   },
   {
    "duration": 6,
    "start_time": "2024-12-06T19:21:36.467Z"
   },
   {
    "duration": 43,
    "start_time": "2024-12-06T19:21:43.509Z"
   },
   {
    "duration": 12232,
    "start_time": "2024-12-06T19:21:45.704Z"
   },
   {
    "duration": 5165,
    "start_time": "2024-12-06T19:33:28.880Z"
   },
   {
    "duration": 3,
    "start_time": "2024-12-06T19:33:34.960Z"
   },
   {
    "duration": 2721,
    "start_time": "2024-12-06T19:33:36.730Z"
   },
   {
    "duration": 43,
    "start_time": "2024-12-06T19:33:39.453Z"
   },
   {
    "duration": 248,
    "start_time": "2024-12-06T19:33:39.499Z"
   },
   {
    "duration": 4,
    "start_time": "2024-12-06T19:33:40.627Z"
   },
   {
    "duration": 3,
    "start_time": "2024-12-06T19:33:41.248Z"
   },
   {
    "duration": 3,
    "start_time": "2024-12-06T19:33:41.876Z"
   },
   {
    "duration": 3509,
    "start_time": "2024-12-06T19:33:43.515Z"
   },
   {
    "duration": 10,
    "start_time": "2024-12-06T19:33:58.299Z"
   },
   {
    "duration": 11,
    "start_time": "2024-12-06T19:34:03.004Z"
   },
   {
    "duration": 53,
    "start_time": "2024-12-06T19:34:07.477Z"
   },
   {
    "duration": 13186,
    "start_time": "2024-12-06T19:34:12.661Z"
   },
   {
    "duration": 65389,
    "start_time": "2024-12-06T19:34:42.416Z"
   },
   {
    "duration": 38,
    "start_time": "2024-12-06T19:35:52.789Z"
   },
   {
    "duration": 4841,
    "start_time": "2024-12-07T06:46:05.563Z"
   },
   {
    "duration": 3,
    "start_time": "2024-12-07T06:49:24.012Z"
   },
   {
    "duration": 335,
    "start_time": "2024-12-07T06:50:09.756Z"
   },
   {
    "duration": 2264,
    "start_time": "2024-12-07T06:50:16.864Z"
   },
   {
    "duration": 27,
    "start_time": "2024-12-07T06:50:19.130Z"
   },
   {
    "duration": 244,
    "start_time": "2024-12-07T06:50:19.160Z"
   },
   {
    "duration": 3,
    "start_time": "2024-12-07T06:50:30.344Z"
   },
   {
    "duration": 3,
    "start_time": "2024-12-07T06:50:31.135Z"
   },
   {
    "duration": 3,
    "start_time": "2024-12-07T06:50:32.584Z"
   },
   {
    "duration": 20,
    "start_time": "2024-12-07T06:50:33.256Z"
   },
   {
    "duration": 4,
    "start_time": "2024-12-07T06:50:40.396Z"
   },
   {
    "duration": 16354,
    "start_time": "2024-12-07T06:50:43.744Z"
   },
   {
    "duration": 3135,
    "start_time": "2024-12-07T06:51:04.204Z"
   },
   {
    "duration": 88634,
    "start_time": "2024-12-07T06:51:09.396Z"
   },
   {
    "duration": 52,
    "start_time": "2024-12-07T06:53:03.665Z"
   },
   {
    "duration": 7019,
    "start_time": "2024-12-07T06:53:58.084Z"
   },
   {
    "duration": 7,
    "start_time": "2024-12-07T06:54:16.592Z"
   },
   {
    "duration": 6,
    "start_time": "2024-12-07T06:55:29.673Z"
   },
   {
    "duration": 4065,
    "start_time": "2024-12-07T07:47:44.400Z"
   },
   {
    "duration": 2491,
    "start_time": "2024-12-07T07:47:57.260Z"
   },
   {
    "duration": 634,
    "start_time": "2024-12-07T07:48:39.840Z"
   },
   {
    "duration": 573,
    "start_time": "2024-12-07T07:49:17.980Z"
   },
   {
    "duration": 2557,
    "start_time": "2024-12-07T07:49:33.641Z"
   },
   {
    "duration": 563,
    "start_time": "2024-12-07T07:49:57.581Z"
   },
   {
    "duration": 3414,
    "start_time": "2024-12-07T07:50:27.080Z"
   },
   {
    "duration": 3300,
    "start_time": "2024-12-07T07:50:38.453Z"
   },
   {
    "duration": 4,
    "start_time": "2024-12-07T07:50:42.080Z"
   },
   {
    "duration": 2408,
    "start_time": "2024-12-07T07:50:46.100Z"
   },
   {
    "duration": 31,
    "start_time": "2024-12-07T07:50:48.510Z"
   },
   {
    "duration": 3,
    "start_time": "2024-12-07T07:50:52.100Z"
   },
   {
    "duration": 3,
    "start_time": "2024-12-07T07:50:52.576Z"
   },
   {
    "duration": 3,
    "start_time": "2024-12-07T07:50:53.181Z"
   },
   {
    "duration": 3172,
    "start_time": "2024-12-07T07:50:53.672Z"
   },
   {
    "duration": 91202,
    "start_time": "2024-12-07T07:51:01.149Z"
   },
   {
    "duration": 61,
    "start_time": "2024-12-07T07:52:44.801Z"
   },
   {
    "duration": 6976,
    "start_time": "2024-12-07T07:52:46.620Z"
   },
   {
    "duration": 309,
    "start_time": "2024-12-07T07:53:12.488Z"
   },
   {
    "duration": 106,
    "start_time": "2024-12-07T07:53:19.788Z"
   },
   {
    "duration": 46,
    "start_time": "2024-12-07T07:58:42.580Z"
   },
   {
    "duration": 121,
    "start_time": "2024-12-07T07:59:09.612Z"
   },
   {
    "duration": 438,
    "start_time": "2024-12-07T08:00:41.989Z"
   },
   {
    "duration": 110,
    "start_time": "2024-12-07T08:00:46.856Z"
   },
   {
    "duration": 122,
    "start_time": "2024-12-07T08:00:56.759Z"
   },
   {
    "duration": 4780,
    "start_time": "2024-12-07T09:58:49.872Z"
   },
   {
    "duration": 4,
    "start_time": "2024-12-07T09:59:05.004Z"
   },
   {
    "duration": 2673,
    "start_time": "2024-12-07T09:59:07.592Z"
   },
   {
    "duration": 39,
    "start_time": "2024-12-07T09:59:10.267Z"
   },
   {
    "duration": 237,
    "start_time": "2024-12-07T09:59:10.333Z"
   },
   {
    "duration": 3,
    "start_time": "2024-12-07T09:59:25.051Z"
   },
   {
    "duration": 3,
    "start_time": "2024-12-07T09:59:25.353Z"
   },
   {
    "duration": 3,
    "start_time": "2024-12-07T09:59:28.089Z"
   },
   {
    "duration": 3180,
    "start_time": "2024-12-07T09:59:30.928Z"
   },
   {
    "duration": 91479,
    "start_time": "2024-12-07T09:59:39.272Z"
   },
   {
    "duration": 51,
    "start_time": "2024-12-07T10:01:15.713Z"
   },
   {
    "duration": 6850,
    "start_time": "2024-12-07T10:01:17.532Z"
   },
   {
    "duration": 53419,
    "start_time": "2024-12-07T10:01:32.311Z"
   },
   {
    "duration": 24,
    "start_time": "2024-12-07T10:02:25.731Z"
   },
   {
    "duration": 25,
    "start_time": "2024-12-07T10:36:03.540Z"
   },
   {
    "duration": 5,
    "start_time": "2024-12-07T10:39:10.733Z"
   },
   {
    "duration": 18,
    "start_time": "2024-12-07T10:39:39.805Z"
   },
   {
    "duration": 9,
    "start_time": "2024-12-07T10:39:49.585Z"
   },
   {
    "duration": 25,
    "start_time": "2024-12-07T10:39:55.713Z"
   },
   {
    "duration": 30,
    "start_time": "2024-12-07T10:40:14.293Z"
   },
   {
    "duration": 350,
    "start_time": "2024-12-07T10:40:28.142Z"
   },
   {
    "duration": 9,
    "start_time": "2024-12-07T10:40:37.193Z"
   },
   {
    "duration": 9,
    "start_time": "2024-12-07T10:40:45.433Z"
   },
   {
    "duration": 9,
    "start_time": "2024-12-07T10:40:55.433Z"
   },
   {
    "duration": 9,
    "start_time": "2024-12-07T10:41:25.239Z"
   }
  ],
  "kernelspec": {
   "display_name": "Python 3 (ipykernel)",
   "language": "python",
   "name": "python3"
  },
  "language_info": {
   "codemirror_mode": {
    "name": "ipython",
    "version": 3
   },
   "file_extension": ".py",
   "mimetype": "text/x-python",
   "name": "python",
   "nbconvert_exporter": "python",
   "pygments_lexer": "ipython3",
   "version": "3.11.11"
  },
  "toc": {
   "base_numbering": 1,
   "nav_menu": {},
   "number_sections": true,
   "sideBar": true,
   "skip_h1_title": true,
   "title_cell": "Содержание",
   "title_sidebar": "Contents",
   "toc_cell": true,
   "toc_position": {
    "height": "calc(100% - 180px)",
    "left": "10px",
    "top": "150px",
    "width": "302.391px"
   },
   "toc_section_display": true,
   "toc_window_display": false
  }
 },
 "nbformat": 4,
 "nbformat_minor": 4
}
